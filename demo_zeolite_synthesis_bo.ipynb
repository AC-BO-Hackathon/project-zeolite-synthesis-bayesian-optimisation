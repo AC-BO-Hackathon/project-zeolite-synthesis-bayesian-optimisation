{
 "cells": [
  {
   "cell_type": "markdown",
   "id": "33956ea9-21bf-41a8-9c4a-d24f89d1d52d",
   "metadata": {},
   "source": [
    "# Code Demonstration: Bayesian Optimization for Zeolite Synthesis"
   ]
  },
  {
   "cell_type": "markdown",
   "id": "72398f31-f1bc-459f-aca4-6358d7e1a0c8",
   "metadata": {},
   "source": [
    "Author: Plessers Dieter  \n",
    "March 28th, 2024"
   ]
  },
  {
   "cell_type": "markdown",
   "id": "e8b0873e-52ee-41ad-8ea6-dda138b77892",
   "metadata": {},
   "source": [
    "## Table of Contents    <a name='TOC'></a> \n",
    "[Introduction](#Introduction)   \n",
    "[Import necessary packages](#Packages)   \n",
    "\n",
    "[Part 1: Optimize an Analytical 'Dummy' Function with Zeolite Synthesis Parameters](#Part1)\n",
    "* [1.1 Define Dummy Analytical Objective Functions](#Part1.1)    \n",
    "* [1.2 Define a Function that Optimizes the Dummy Function with Ax Package](#Part1.2)\n",
    "* [1.3 Single-Objective with 4 Continuous Variables](#Part1.3)    \n",
    "* [1.4 Multi-Objective with 4 Continuous Variables](#Part1.4)\n",
    "* [1.5 Multi-Objective with 4 Continuous Variables and 2 Categorical Variables](#Part1.5)    \n",
    "* [1.6 Multi-Objective with 4 Continuous Variables, 2 Categorical Variables and Parameter Constraints](#Part1.6)\n",
    "* [1.7 Code Example without Using the General `optimize_experiment_ax` Function of Part 1.2](#Part1.7)\n",
    "  \n",
    "[Part 2: Propose a New Experiment Based on a Batch of Prior (Literature) Experiments](#Part2)\n",
    "* [2.1 Define a Function that Proposes the Next Best Experiment with Ax Package](#Part2.1)    \n",
    "* [2.2 Collect the Literature Input and Output Data](#Part2.2)\n",
    "* [2.3 Single-Objective (Synthesis Yield) with 3 Continuous Variables and 2 Categorical Variables](#Part2.3)    \n",
    "* [2.4 Multi-Objective (Synthesis Yield + Methanol Production) with 3 Continuous Variables and 2 Categorical Variables](#Part2.4)\n"
   ]
  },
  {
   "cell_type": "markdown",
   "id": "e3c2a160-5c0a-4e9c-bfcd-45491aef19b9",
   "metadata": {},
   "source": [
    "## Introduction <a name='Introduction'></a> \n",
    "#### Scope \n",
    "This Jupyter notebook accompanies an introductory text on Bayesian optimization (BO) for zeolite synthesis. In the text, we outlined a **typical parameter space with tunable variables and constraints, along with possible objectives derived from a zeolite target application**. Within this notebook, we exemplify these concepts with code, leveraging real-world literature data acquired through grid search in [Table S4](https://pubs.acs.org/doi/suppl/10.1021/acs.chemmater.9b03738/suppl_file/cm9b03738_si_001.pdf#page=10) and [Table S3](https://pubs.acs.org/doi/suppl/10.1021/jacs.1c07590/suppl_file/ja1c07590_si_001.pdf#page=9) in the Supporting Information of respectively:\n",
    "\n",
    "1. Devos, J.; Bols, M. L.; Plessers, D.; Goethem, C. Van; Seo, J. W.; Hwang, S.-J.; Sels, B. F.; Dusselier, M. Synthesis–Structure–Activity Relations in Fe-CHA for C–H Activation: Control of Al Distribution by Interzeolite Conversion. [*Chem. Mater.* **2020**, *32*, 273–285](https://pubs.acs.org/doi/abs/10.1021/acs.chemmater.9b03738).  \n",
    "2. Bols, M. L.; Devos, J.; Rhoda, H. M.; Plessers, D.; Solomon, E. I.; Schoonheydt, R. A.; Sels, B. F.; Dusselier, M. Selective Formation of $\\alpha$-Fe(II) Sites on Fe-Zeolites through One-Pot Synthesis. [*J. Am. Chem. Soc.* **2021**, *143*, 16243–16255](https://pubs.acs.org/doi/10.1021/jacs.1c07590).  \n",
    "\n",
    "A common overarching objective in zeolite synthesis is to achieve a **high yield** of the desired zeolite product. In the papers under consideration, a more specialized goal involves **maximizing the presence of proximal Al pairs** within synthesized CHA zeolites, which is required for stabilizing Fe<sup>2+</sup> sites (so-called divalent cation capacity, DCC). Upon activation, these sites can selectively oxidize methane to **methanol**. Accordingly, we will provide examples with synthesis yield, DCC and methanol yield as optimization objectives for the Bayesian optimization process.\n",
    "\n",
    "This notebook is divided into two sections:  \n",
    "1. The first section uses Bayesian optimization to optimize an analytical dummy function using zeolite synthesis parameters.  \n",
    "2. The second section uses Bayesian optimization to propose a new experiment based on existing literature data.\n",
    "\n",
    "#### [Part 1: Optimize an Analytical 'Dummy' Function with Zeolite Synthesis Parameters](#Part1)\n",
    "We create a ['dummy' function](#Part1.1) linking the input parameters of zeolite synthesis to a specific output. The Bayesian optimizer operates without knowledge of the underlying analytical function we have defined, but this approach allows us to run a Bayesian optimization scheme as follows: 1) BO suggests parameters for experimentation based on a list of previous experimental outcomes, 2) our analytical function yields the outcome of the suggested experiment, 3) the outcome is added to the list of previous experimental outcomes and 4) this process is iteratively repeated. \n",
    "\n",
    "We run three different experiment modes to demonstrate various options available with BO:\n",
    "\n",
    "1. Four **continuous** variables with a **single** objective (high synthesis yield)   [[link]](#Part1.3)  \n",
    "2. Four **continuous** variables with **multiple** objectives (high synthesis yield and high DCC)  [[link]](#Part1.4)  \n",
    "3. **Mixed variable types** (4 continuous and 2 categorical) with **multiple** objectives (high synthesis yield and high DCC) [[link]](#Part1.5)  \n",
    "4. **Mixed variable types** (4 continuous and 2 categorical) with **parameter constraints** and with **multiple objectives** (high synthesis yield and high DCC) [[link]](#Part1.6)  \n",
    "\n",
    "In the simplest case of 4 continuous variables, a grid search choosing 3 values per variable would require $3^4=81$ experiments, with no guarantee that any of these experiments will come close to the global optimum. In contrast, it can be seen in the code that the Bayesian optimizer reaches close to the global optimum in less than 30 iterations. \n",
    "   \n",
    "#### [Part 2: Propose a New Experiment Based on a Batch of Prior (Literature) Experiments](#Part2)\n",
    "Here Bayesian optimization is applied within a **real-world context** where the underlying target function remains unknown. We start from a batch of experiments collected from literature, and we allow the Bayesian optimizer to **suggest the next experiment**. This process aims to explore the search space further and/or leverage past results. In practice, one would implement the suggested experiment, incorporate its outcome into the existing results, and subsequently rerun the Bayesian optimization algorithm. We provide an example with **mixed variable types** (3 continuous and 2 categorical) with a **single-objective** and **multi-objective** target.\n",
    "\r\n",
    "\n",
    "\n"
   ]
  },
  {
   "cell_type": "markdown",
   "id": "293ba810-16e0-4db1-8bd8-ed91705d0fe5",
   "metadata": {},
   "source": [
    "## Import necessary packages   <a name='Packages'></a> "
   ]
  },
  {
   "cell_type": "code",
   "execution_count": 1,
   "id": "bec011d0-be00-428b-b4e3-ace5c2940f3e",
   "metadata": {},
   "outputs": [],
   "source": [
    "import numpy as np\n",
    "\n",
    "# Ax (adaptive experimentation) is the package we use for BO: https://ax.dev/\n",
    "try:\n",
    "    import ax\n",
    "except:    \n",
    "    %pip install ax-platform\n",
    "from ax.service.ax_client import AxClient, ObjectiveProperties\n",
    "from ax.modelbridge.generation_strategy import GenerationStrategy, GenerationStep\n",
    "from ax.modelbridge.registry import Models\n",
    "from ax.service.utils.instantiation import ObjectiveProperties\n",
    "\n",
    "# We will use plotly to plot the optimization trace of a single-objective experiment\n",
    "try: \n",
    "    import plotly\n",
    "except:\n",
    "    %pip install plotly\n",
    "import plotly.graph_objects as go\n",
    "\n",
    "from IPython.display import display        # Enables the display of more than one dataframe per code cell\n",
    "import pandas as pd\n",
    "pd.set_option('max_colwidth', None)        # Show  full width Panda columns\n",
    "from collections import OrderedDict\n",
    "\n",
    "# To hide all the info and warning messages of Ax. Comment the next lines if you want to see them.\n",
    "import logging, sys\n",
    "logging.disable(sys.maxsize)\n",
    "import warnings\n",
    "warnings.filterwarnings('ignore')\n"
   ]
  },
  {
   "cell_type": "markdown",
   "id": "4f326992-3de6-443f-875b-d72e35aaab7b",
   "metadata": {},
   "source": [
    "## Part 1: Optimize an Analytical 'Dummy' Function with Zeolite Synthesis Parameters  <a name='Part1'></a>"
   ]
  },
  {
   "cell_type": "markdown",
   "id": "6c7517af-a5d3-4d5c-b7e9-05af59588548",
   "metadata": {},
   "source": [
    "### 1.1 Define Dummy Analytical Objective Functions  <a name='Part1.1'></a>"
   ]
  },
  {
   "cell_type": "markdown",
   "id": "2b43f842-8109-499d-a064-048b377cb9b3",
   "metadata": {},
   "source": [
    "Here we will define analytical functions for BO to **minimize**:\n",
    "1) The first function has 4 continuous variables with a single objective\n",
    "2) The second function has 4 continuous variables with two objectives\n",
    "3) The third fuctions has 4 continuous and 2 categorical variables with 2 objectives\n",
    "\n",
    "We choose a simple function definition that has a **clear global minimum** (both for single and multi-objective) around  \n",
    "x1 = 0.35  $\\ \\ \\ $ (molar ratio of organic structure directing agents (OSDA) compared to Si)  \n",
    "x2 = 12.5  $\\ \\ \\ $ (the molar ratio of water compared to Si)  \n",
    "x3 = 140   $\\ \\ \\ \\ $ (synthesis temperature (°C))  \n",
    "x4 = 24    $\\ \\ \\ \\ \\ \\ $ (synthesis time (h))  \n",
    "x5 = Static $\\ $ (stirring mode)  \n",
    "x6 = Fumed  (silicon source)"
   ]
  },
  {
   "cell_type": "code",
   "execution_count": 2,
   "id": "fae9fcab-28a4-4245-8354-677b7a4034d1",
   "metadata": {},
   "outputs": [],
   "source": [
    "def dummy_function_4_continuous_1_objective(x1, x2, x3, x4, obj_name1):\n",
    "    y1 = float((90*x1- 90*0.35)**2 + (x2-12.5)**2 + (x3-140)**2 +  (x4/8-24/8)**2 + np.cos(x1*x2*x3*x4))\n",
    "    return {obj_name1:y1}\n",
    "    \n",
    "def dummy_function_4_continuous_2_objective(x1, x2, x3, x4, obj_name1, obj_name2):\n",
    "    y1 = float((90*x1- 90*0.35)**2 + (x2-12.5)**2 + (x3-140)**2 +  (x4/8-24/8)**2 + np.cos(x1*x2*x3*x4))\n",
    "    y2 = float((90*x1- 90*0.35)**2 + (x2-12.5)**2 + (x3-140)**2 +  (x4/8-24/8)**2 + np.sin(x1*x2*x3*x4))\n",
    "\n",
    "    # In our case, standard error is 0.0, since we are computing a synthetic function.\n",
    "    # See: https://ax.dev/tutorials/multiobjective_optimization.html\n",
    "    return {obj_name1:(y1, 0.0), obj_name2 : (y2, 0.0)}\n",
    "\n",
    "def dummy_function_4_continuous_2_categorical_2_objective(x1, x2, x3, x4, c1, c2, obj_name1, obj_name2):\n",
    "\n",
    "    # The penalty lookup idea comes from https://honegumi.readthedocs.io/en/latest/\n",
    "    penalty_lookup1 = {\"Stirring\": 5000, \"Tumbling\": 2500, \"Static\": 0.0}\n",
    "    penalty_lookup2 = {\"Colloidal\": 5000, \"Fumed\": 0.0}\n",
    "    \n",
    "    y1 = float((90*x1- 90*0.35)**2 + (x2-12.5)**2 + (x3-140)**2 +  (x4/8-24/8)**2 + np.cos(x1*x2*x3*x4))\n",
    "    y1 += penalty_lookup1[c1] +  penalty_lookup2[c2]\n",
    "    \n",
    "    y2 = float((90*x1- 90*0.35)**2 + (x2-12.5)**2 + (x3-140)**2 +  (x4/8-24/8)**2 + np.sin(x1*x2*x3*x4))\n",
    "    y2 += penalty_lookup1[c1] +  penalty_lookup2[c2]\n",
    "    \n",
    "    # In our case, standard error is 0.0, since we are computing a synthetic function.\n",
    "    # See: https://ax.dev/tutorials/multiobjective_optimization.html\n",
    "    return {obj_name1:(y1, 0.0), obj_name2 : (y2, 0.0)}\n"
   ]
  },
  {
   "cell_type": "markdown",
   "id": "9b4cc353-4c83-42f8-9bfd-bf1d926e97e0",
   "metadata": {},
   "source": [
    "### 1.2 Define a Function that Optimizes the Dummy Function with Ax Package    <a name='Part1.2'></a>"
   ]
  },
  {
   "cell_type": "markdown",
   "id": "fdb712df-d17b-4662-a671-ddf0b3335c2c",
   "metadata": {},
   "source": [
    "Here we will create a **general function** `optimize_experiment_ax` to run a BO experiment with the Ax package. This general function allows focus on the output of the experiments further on, without repeatedly modifying similar sections of code. At the end, we offer an example code not using this general function,  which may be employed if only one type of experiment is considered.  \n",
    "\n",
    "The `optimize_experiment_ax` function takes a list of  **objective names** (can be any length, so single or multi-objective), an **analytical function** of the objectives (defined in [section 1.1](#Part1.1)), a list of **continuous parameters**, a list of **categorical parameters**, a list of parameter **constraints**, and an amount of **iterations**. This function will be used throughout part 1 of the notebook to run different experiments. \n",
    "\n",
    "\n",
    "This function is inspired by the different options provided by **Honegumi** (https://honegumi.readthedocs.io/en/latest/), and can easily be modified to incorporate batch sizes. "
   ]
  },
  {
   "cell_type": "code",
   "execution_count": 3,
   "id": "5bcfb4b9-c580-4061-9b95-34a66f1667c6",
   "metadata": {},
   "outputs": [],
   "source": [
    "def to_plotly(axplotconfig):\n",
    "    \"\"\"Converts AxPlotConfig to plotly Figure.\"\"\"\n",
    "    data = axplotconfig[0][\"data\"]\n",
    "    layout = axplotconfig[0][\"layout\"]\n",
    "    fig = go.Figure({\"data\": data, \"layout\": layout})\n",
    "    return fig\n",
    "    \n",
    "def optimize_experiment_ax(list_obj_names, objective_function, continuous_parameters_list, categorical_parameters_list, \n",
    "                           parameter_constraints_lists, iterations):\n",
    "    \"\"\"\n",
    "    Creates an optimization experiment with the Ax package. \n",
    "    Inputs: \n",
    "    list_obj_names: list with all the objective names\n",
    "    objective_function: function used to calculate objectives\n",
    "    continuous_parameters_list: list of continuous parameters for the objective function\n",
    "    categorical_parameters_list: list of categorical parameters for the objective function\n",
    "    parameter_constraints_lists: list of constraints in the parameter space\n",
    "    iterations: number of iterations for the BO algorithm\n",
    "\n",
    "    Outputs:\n",
    "    The best parameters and their objective function outputs are printed.\n",
    "    For single-objective experiments, the optimization trace is plotted.    \n",
    "\n",
    "    Source:\n",
    "    This function is inspired by the different options provided by Honegumi (https://honegumi.readthedocs.io/en/latest/)\n",
    "    \"\"\"\n",
    "\n",
    "    all_parameters_list = continuous_parameters_list + categorical_parameters_list\n",
    "    objectives_dictionary={}\n",
    "    for obj_name in list_obj_names:\n",
    "        objectives_dictionary[obj_name]=ObjectiveProperties(minimize=True)\n",
    "        \n",
    "    ax_client = AxClient(verbose_logging=False)\n",
    "    ax_client.create_experiment(parameters= all_parameters_list, \n",
    "                                parameter_constraints = parameter_constraints_lists,\n",
    "                                objectives = objectives_dictionary \n",
    "                                )\n",
    "    \n",
    "    for _ in range(iterations):\n",
    "        parameterization, trial_index = ax_client.get_next_trial()\n",
    "    \n",
    "        # Extract parameters and collect in dictionary\n",
    "        dict_extract_parameters={}\n",
    "        for parameter_info in all_parameters_list:\n",
    "            parameter_name = parameter_info[\"name\"]\n",
    "            dict_extract_parameters[parameter_name] = parameterization[parameter_name]\n",
    "        \n",
    "        # Calculate the results by plugging the parameters and objective names in the provided objective function\n",
    "        results = objective_function(*dict_extract_parameters.values(), *list_obj_names)\n",
    "        ax_client.complete_trial(trial_index=trial_index, raw_data=results)\n",
    "\n",
    "    # Create dataframe with details of all experiment iterations\n",
    "    df_experiments = ax_client.generation_strategy.trials_as_df\n",
    "    number_of_experiments_to_show= min(iterations, 5)\n",
    "    print(f'The details of the last {number_of_experiments_to_show} experiments:')\n",
    "    display(df_experiments.tail())\n",
    "\n",
    "    if len(list_obj_names) == 1:\n",
    "        # Single-objective optimization\n",
    "        # Get the AxClient's optimization trace \n",
    "        optimization_trace = ax_client.get_optimization_trace()\n",
    "        \n",
    "        # Convert the optimization trace to a Plotly figure and plot it\n",
    "        fig = to_plotly(optimization_trace)\n",
    "        fig.show(renderer='png')\n",
    "\n",
    "        # Output the best parameters and their corresponding objective values\n",
    "        best_parameters, value = ax_client.get_best_parameters()\n",
    "        print('The best parameters were:')\n",
    "        display(best_parameters)\n",
    "        print('\\nThe objective value for the best parameters was:')\n",
    "        display(value[0])\n",
    "\n",
    "    else:\n",
    "        # Multi-objective optimization\n",
    "        # Output the Pareto optimal parameters and their corresponding objective values\n",
    "        best_parameters = ax_client.get_pareto_optimal_parameters()\n",
    "        print('The Pareto optimal parameters were:')\n",
    "        display(list(best_parameters.values())[0][0])\n",
    "        print('\\nThe objective values for the Pareto optimal parameters were:')\n",
    "        display(list(best_parameters.values())[0][1][0])\n",
    "        \n",
    "    return None"
   ]
  },
  {
   "cell_type": "markdown",
   "id": "e2739dec-a5c4-4a32-bdbb-de0c014cf4dc",
   "metadata": {},
   "source": [
    "### 1.3 Single-Objective with 4 Continuous Variables <a name='Part1.3'></a>"
   ]
  },
  {
   "cell_type": "markdown",
   "id": "2f9df5b9-9b2a-4785-a347-061da3d110fd",
   "metadata": {},
   "source": [
    "The first demonstration uses the general function [`optimize_experiment_ax`](#Part1.2) to optimize an experiment with **4 continuous variables** with typical ranges that are based on [Table S4](https://pubs.acs.org/doi/suppl/10.1021/acs.chemmater.9b03738/suppl_file/cm9b03738_si_001.pdf#page=10) in the Supporting Information of [reference 1](https://pubs.acs.org/doi/abs/10.1021/acs.chemmater.9b03738): \n",
    "* the molar ratio of organic structure directing agents (OSDA) compared to Si  \n",
    "* the molar ratio of water compared to Si\n",
    "* synthesis temperature (°C)\n",
    "* synthesis time (h)\n",
    "\n",
    "The **single target variable** is synthesis yield. We assume that minimizing the above defined [dummy function](#Part1.1) `dummy_function_4_continuous_1_objective` corresponds to maximizing the yield of the zeolite synthesis. We also plot the **optimization trace** of the BO algorithm throughout the different experiment iterations.\n"
   ]
  },
  {
   "cell_type": "code",
   "execution_count": 4,
   "id": "c1825bf3-f5be-4504-834b-f18551cecd63",
   "metadata": {},
   "outputs": [
    {
     "name": "stdout",
     "output_type": "stream",
     "text": [
      "The details of the last 5 experiments:\n"
     ]
    },
    {
     "data": {
      "text/html": [
       "<div>\n",
       "<style scoped>\n",
       "    .dataframe tbody tr th:only-of-type {\n",
       "        vertical-align: middle;\n",
       "    }\n",
       "\n",
       "    .dataframe tbody tr th {\n",
       "        vertical-align: top;\n",
       "    }\n",
       "\n",
       "    .dataframe thead th {\n",
       "        text-align: right;\n",
       "    }\n",
       "</style>\n",
       "<table border=\"1\" class=\"dataframe\">\n",
       "  <thead>\n",
       "    <tr style=\"text-align: right;\">\n",
       "      <th></th>\n",
       "      <th>Generation Step</th>\n",
       "      <th>Generation Model</th>\n",
       "      <th>Trial Index</th>\n",
       "      <th>Trial Status</th>\n",
       "      <th>Arm Parameterizations</th>\n",
       "    </tr>\n",
       "  </thead>\n",
       "  <tbody>\n",
       "    <tr>\n",
       "      <th>25</th>\n",
       "      <td>GenerationStep_1</td>\n",
       "      <td>BoTorch</td>\n",
       "      <td>25</td>\n",
       "      <td>COMPLETED</td>\n",
       "      <td>{'25_0': {'OSDA_molar_ratio': 0.38, 'H2O_molar_ratio': 13.61, 'Synthesis_temperature': 136.78, 'Synthesis_time': 28.85}}</td>\n",
       "    </tr>\n",
       "    <tr>\n",
       "      <th>26</th>\n",
       "      <td>GenerationStep_1</td>\n",
       "      <td>BoTorch</td>\n",
       "      <td>26</td>\n",
       "      <td>COMPLETED</td>\n",
       "      <td>{'26_0': {'OSDA_molar_ratio': 0.38, 'H2O_molar_ratio': 20.35, 'Synthesis_temperature': 143.58, 'Synthesis_time': 2.0}}</td>\n",
       "    </tr>\n",
       "    <tr>\n",
       "      <th>27</th>\n",
       "      <td>GenerationStep_1</td>\n",
       "      <td>BoTorch</td>\n",
       "      <td>27</td>\n",
       "      <td>COMPLETED</td>\n",
       "      <td>{'27_0': {'OSDA_molar_ratio': 0.36, 'H2O_molar_ratio': 11.54, 'Synthesis_temperature': 142.55, 'Synthesis_time': 37.52}}</td>\n",
       "    </tr>\n",
       "    <tr>\n",
       "      <th>28</th>\n",
       "      <td>GenerationStep_1</td>\n",
       "      <td>BoTorch</td>\n",
       "      <td>28</td>\n",
       "      <td>COMPLETED</td>\n",
       "      <td>{'28_0': {'OSDA_molar_ratio': 0.38, 'H2O_molar_ratio': 5.0, 'Synthesis_temperature': 138.76, 'Synthesis_time': 2.0}}</td>\n",
       "    </tr>\n",
       "    <tr>\n",
       "      <th>29</th>\n",
       "      <td>GenerationStep_1</td>\n",
       "      <td>BoTorch</td>\n",
       "      <td>29</td>\n",
       "      <td>COMPLETED</td>\n",
       "      <td>{'29_0': {'OSDA_molar_ratio': 0.35, 'H2O_molar_ratio': 12.39, 'Synthesis_temperature': 138.91, 'Synthesis_time': 25.45}}</td>\n",
       "    </tr>\n",
       "  </tbody>\n",
       "</table>\n",
       "</div>"
      ],
      "text/plain": [
       "     Generation Step Generation Model  Trial Index Trial Status  \\\n",
       "25  GenerationStep_1          BoTorch           25    COMPLETED   \n",
       "26  GenerationStep_1          BoTorch           26    COMPLETED   \n",
       "27  GenerationStep_1          BoTorch           27    COMPLETED   \n",
       "28  GenerationStep_1          BoTorch           28    COMPLETED   \n",
       "29  GenerationStep_1          BoTorch           29    COMPLETED   \n",
       "\n",
       "                                                                                                       Arm Parameterizations  \n",
       "25  {'25_0': {'OSDA_molar_ratio': 0.38, 'H2O_molar_ratio': 13.61, 'Synthesis_temperature': 136.78, 'Synthesis_time': 28.85}}  \n",
       "26    {'26_0': {'OSDA_molar_ratio': 0.38, 'H2O_molar_ratio': 20.35, 'Synthesis_temperature': 143.58, 'Synthesis_time': 2.0}}  \n",
       "27  {'27_0': {'OSDA_molar_ratio': 0.36, 'H2O_molar_ratio': 11.54, 'Synthesis_temperature': 142.55, 'Synthesis_time': 37.52}}  \n",
       "28      {'28_0': {'OSDA_molar_ratio': 0.38, 'H2O_molar_ratio': 5.0, 'Synthesis_temperature': 138.76, 'Synthesis_time': 2.0}}  \n",
       "29  {'29_0': {'OSDA_molar_ratio': 0.35, 'H2O_molar_ratio': 12.39, 'Synthesis_temperature': 138.91, 'Synthesis_time': 25.45}}  "
      ]
     },
     "metadata": {},
     "output_type": "display_data"
    },
    {
     "data": {
      "image/png": "[encoded data removed]"
     },
     "metadata": {},
     "output_type": "display_data"
    },
    {
     "name": "stdout",
     "output_type": "stream",
     "text": [
      "The best parameters were:\n"
     ]
    },
    {
     "data": {
      "text/plain": [
       "{'OSDA_molar_ratio': 0.34775812136334816,\n",
       " 'H2O_molar_ratio': 12.389732172987166,\n",
       " 'Synthesis_temperature': 138.9139401644853,\n",
       " 'Synthesis_time': 25.450990377516668}"
      ]
     },
     "metadata": {},
     "output_type": "display_data"
    },
    {
     "name": "stdout",
     "output_type": "stream",
     "text": [
      "\n",
      "The objective value for the best parameters was:\n"
     ]
    },
    {
     "data": {
      "text/plain": [
       "{'Synthesis_yield': 0.8177388940177934}"
      ]
     },
     "metadata": {},
     "output_type": "display_data"
    }
   ],
   "source": [
    "optimize_experiment_ax(list_obj_names = ['Synthesis_yield'],\n",
    "                       objective_function = dummy_function_4_continuous_1_objective,\n",
    "                       continuous_parameters_list = [{\"name\": \"OSDA_molar_ratio\", \"type\": \"range\", \"bounds\": [0.1, 1.0]},\n",
    "                                                     {\"name\": \"H2O_molar_ratio\", \"type\": \"range\", \"bounds\": [5.0, 100.0]},\n",
    "                                                     {\"name\": \"Synthesis_temperature\", \"type\": \"range\", \"bounds\": [100.0, 200.0]},\n",
    "                                                     {\"name\": \"Synthesis_time\", \"type\": \"range\", \"bounds\": [2.0, 432.0]},\n",
    "                                                     ],\n",
    "                       categorical_parameters_list = [],\n",
    "                       parameter_constraints_lists = [],\n",
    "                       iterations=30)"
   ]
  },
  {
   "cell_type": "markdown",
   "id": "c1e91c48-fc9c-40c6-9ef5-7a9251db33da",
   "metadata": {},
   "source": [
    "### 1.4 Multi-Objective with 4 Continuous Variables  <a name='Part1.4'></a>"
   ]
  },
  {
   "cell_type": "markdown",
   "id": "91b6dbc9-cf6b-4090-99f2-a2a027c188af",
   "metadata": {},
   "source": [
    "The second demonstration uses the general function [`optimize_experiment_ax`](#Part1.2) to optimize an experiment with **4 continuous variables** with typical ranges that are based on [Table S4](https://pubs.acs.org/doi/suppl/10.1021/acs.chemmater.9b03738/suppl_file/cm9b03738_si_001.pdf#page=10) in the Supporting Information of [reference 1](https://pubs.acs.org/doi/abs/10.1021/acs.chemmater.9b03738): \n",
    "* the molar ratio of organic structure directing agents (OSDA) compared to Si  \n",
    "* the molar ratio of water compared to Si\n",
    "* synthesis temperature (°C)\n",
    "* synthesis time (h)\n",
    "\n",
    "The **2 target variables** are synthesis yield and DCC (divalent cation capacity). We assume that minimizing the above defined [dummy function](#Part1.1) `dummy_function_4_continuous_2_objective` corresponds to maximizing the yield and DCC of the zeolite synthesis. Refer to https://ax.dev/tutorials/multiobjective_optimization.html for more background information."
   ]
  },
  {
   "cell_type": "code",
   "execution_count": 5,
   "id": "498f8715-7d4c-47d6-98d6-2ac1f8dcba15",
   "metadata": {},
   "outputs": [
    {
     "name": "stdout",
     "output_type": "stream",
     "text": [
      "The details of the last 5 experiments:\n"
     ]
    },
    {
     "data": {
      "text/html": [
       "<div>\n",
       "<style scoped>\n",
       "    .dataframe tbody tr th:only-of-type {\n",
       "        vertical-align: middle;\n",
       "    }\n",
       "\n",
       "    .dataframe tbody tr th {\n",
       "        vertical-align: top;\n",
       "    }\n",
       "\n",
       "    .dataframe thead th {\n",
       "        text-align: right;\n",
       "    }\n",
       "</style>\n",
       "<table border=\"1\" class=\"dataframe\">\n",
       "  <thead>\n",
       "    <tr style=\"text-align: right;\">\n",
       "      <th></th>\n",
       "      <th>Generation Step</th>\n",
       "      <th>Generation Model</th>\n",
       "      <th>Trial Index</th>\n",
       "      <th>Trial Status</th>\n",
       "      <th>Arm Parameterizations</th>\n",
       "    </tr>\n",
       "  </thead>\n",
       "  <tbody>\n",
       "    <tr>\n",
       "      <th>25</th>\n",
       "      <td>GenerationStep_1</td>\n",
       "      <td>BoTorch</td>\n",
       "      <td>25</td>\n",
       "      <td>COMPLETED</td>\n",
       "      <td>{'25_0': {'OSDA_molar_ratio': 0.35, 'H2O_molar_ratio': 12.76, 'Synthesis_temperature': 140.14, 'Synthesis_time': 23.7}}</td>\n",
       "    </tr>\n",
       "    <tr>\n",
       "      <th>26</th>\n",
       "      <td>GenerationStep_1</td>\n",
       "      <td>BoTorch</td>\n",
       "      <td>26</td>\n",
       "      <td>COMPLETED</td>\n",
       "      <td>{'26_0': {'OSDA_molar_ratio': 0.38, 'H2O_molar_ratio': 11.41, 'Synthesis_temperature': 140.21, 'Synthesis_time': 23.86}}</td>\n",
       "    </tr>\n",
       "    <tr>\n",
       "      <th>27</th>\n",
       "      <td>GenerationStep_1</td>\n",
       "      <td>BoTorch</td>\n",
       "      <td>27</td>\n",
       "      <td>COMPLETED</td>\n",
       "      <td>{'27_0': {'OSDA_molar_ratio': 0.36, 'H2O_molar_ratio': 13.2, 'Synthesis_temperature': 140.56, 'Synthesis_time': 23.78}}</td>\n",
       "    </tr>\n",
       "    <tr>\n",
       "      <th>28</th>\n",
       "      <td>GenerationStep_1</td>\n",
       "      <td>BoTorch</td>\n",
       "      <td>28</td>\n",
       "      <td>COMPLETED</td>\n",
       "      <td>{'28_0': {'OSDA_molar_ratio': 0.33, 'H2O_molar_ratio': 8.25, 'Synthesis_temperature': 143.34, 'Synthesis_time': 2.0}}</td>\n",
       "    </tr>\n",
       "    <tr>\n",
       "      <th>29</th>\n",
       "      <td>GenerationStep_1</td>\n",
       "      <td>BoTorch</td>\n",
       "      <td>29</td>\n",
       "      <td>COMPLETED</td>\n",
       "      <td>{'29_0': {'OSDA_molar_ratio': 0.35, 'H2O_molar_ratio': 12.67, 'Synthesis_temperature': 139.9, 'Synthesis_time': 30.48}}</td>\n",
       "    </tr>\n",
       "  </tbody>\n",
       "</table>\n",
       "</div>"
      ],
      "text/plain": [
       "     Generation Step Generation Model  Trial Index Trial Status  \\\n",
       "25  GenerationStep_1          BoTorch           25    COMPLETED   \n",
       "26  GenerationStep_1          BoTorch           26    COMPLETED   \n",
       "27  GenerationStep_1          BoTorch           27    COMPLETED   \n",
       "28  GenerationStep_1          BoTorch           28    COMPLETED   \n",
       "29  GenerationStep_1          BoTorch           29    COMPLETED   \n",
       "\n",
       "                                                                                                       Arm Parameterizations  \n",
       "25   {'25_0': {'OSDA_molar_ratio': 0.35, 'H2O_molar_ratio': 12.76, 'Synthesis_temperature': 140.14, 'Synthesis_time': 23.7}}  \n",
       "26  {'26_0': {'OSDA_molar_ratio': 0.38, 'H2O_molar_ratio': 11.41, 'Synthesis_temperature': 140.21, 'Synthesis_time': 23.86}}  \n",
       "27   {'27_0': {'OSDA_molar_ratio': 0.36, 'H2O_molar_ratio': 13.2, 'Synthesis_temperature': 140.56, 'Synthesis_time': 23.78}}  \n",
       "28     {'28_0': {'OSDA_molar_ratio': 0.33, 'H2O_molar_ratio': 8.25, 'Synthesis_temperature': 143.34, 'Synthesis_time': 2.0}}  \n",
       "29   {'29_0': {'OSDA_molar_ratio': 0.35, 'H2O_molar_ratio': 12.67, 'Synthesis_temperature': 139.9, 'Synthesis_time': 30.48}}  "
      ]
     },
     "metadata": {},
     "output_type": "display_data"
    },
    {
     "name": "stdout",
     "output_type": "stream",
     "text": [
      "The Pareto optimal parameters were:\n"
     ]
    },
    {
     "data": {
      "text/plain": [
       "{'OSDA_molar_ratio': 0.3514134608325845,\n",
       " 'H2O_molar_ratio': 12.763524283729826,\n",
       " 'Synthesis_temperature': 140.14219782729086,\n",
       " 'Synthesis_time': 23.698891067110903}"
      ]
     },
     "metadata": {},
     "output_type": "display_data"
    },
    {
     "name": "stdout",
     "output_type": "stream",
     "text": [
      "\n",
      "The objective values for the Pareto optimal parameters were:\n"
     ]
    },
    {
     "data": {
      "text/plain": [
       "{'DCC': 0.24512712912701318, 'Synthesis_yield': 0.04231119590133403}"
      ]
     },
     "metadata": {},
     "output_type": "display_data"
    }
   ],
   "source": [
    "optimize_experiment_ax(list_obj_names = ['DCC', 'Synthesis_yield'],\n",
    "                       objective_function = dummy_function_4_continuous_2_objective,\n",
    "                       continuous_parameters_list = [{\"name\": \"OSDA_molar_ratio\", \"type\": \"range\", \"bounds\": [0.1, 1.0]},\n",
    "                                                     {\"name\": \"H2O_molar_ratio\", \"type\": \"range\", \"bounds\": [5.0, 100.0]},\n",
    "                                                     {\"name\": \"Synthesis_temperature\", \"type\": \"range\", \"bounds\": [100.0, 200.0]},\n",
    "                                                     {\"name\": \"Synthesis_time\", \"type\": \"range\", \"bounds\": [2.0, 432.0]},\n",
    "                                                     ],\n",
    "                       categorical_parameters_list = [],\n",
    "                       parameter_constraints_lists = [],\n",
    "                       iterations=30)"
   ]
  },
  {
   "cell_type": "markdown",
   "id": "267ec0c3-0aec-4294-b3ad-9d3c5bfc099e",
   "metadata": {},
   "source": [
    "### 1.5 Multi-Objective with 4 Continuous Variables and 2 Categorical Variables <a name='Part1.5'></a>"
   ]
  },
  {
   "cell_type": "markdown",
   "id": "b11b8976-7a1c-4030-a735-727db98cf320",
   "metadata": {},
   "source": [
    "The third demonstration uses the general function [`optimize_experiment_ax`](#Part1.2) to optimize an experiment with **4 continuous variables** with typical ranges that are based on [Table S4](https://pubs.acs.org/doi/suppl/10.1021/acs.chemmater.9b03738/suppl_file/cm9b03738_si_001.pdf#page=10) in the Supporting Information of [reference 1](https://pubs.acs.org/doi/abs/10.1021/acs.chemmater.9b03738): \n",
    "* the molar ratio of organic structure directing agents (OSDA) compared to Si  \n",
    "* the molar ratio of water compared to Si\n",
    "* synthesis temperature (°C)\n",
    "* synthesis time (h)\n",
    "\n",
    "We also add **2 categorical variables** that are inspired of [Table S3](https://pubs.acs.org/doi/suppl/10.1021/jacs.1c07590/suppl_file/ja1c07590_si_001.pdf#page=9) in the Supporting Information of [reference 2](https://pubs.acs.org/doi/10.1021/jacs.1c07590): \n",
    "* Stirring mode: stirring (600 rpm), tumbling or static.  \n",
    "* Silicon source: colloidal silica or fumed silica.\n",
    "\n",
    "The **2 target variables** are synthesis yield and DCC (divalent cation capacity). We assume that minimizing the above defined [dummy function](#Part1.1) `dummy_function_4_continuous_2_categorical_2_objective` corresponds to maximizing the yield and DCC of the zeolite synthesis. Refer to https://ax.dev/tutorials/multiobjective_optimization.html for more background information."
   ]
  },
  {
   "cell_type": "code",
   "execution_count": 13,
   "id": "88f3cbdb-d13b-4875-b86b-7efe5094f6e6",
   "metadata": {},
   "outputs": [
    {
     "name": "stdout",
     "output_type": "stream",
     "text": [
      "The details of the last 5 experiments:\n"
     ]
    },
    {
     "data": {
      "text/html": [
       "<div>\n",
       "<style scoped>\n",
       "    .dataframe tbody tr th:only-of-type {\n",
       "        vertical-align: middle;\n",
       "    }\n",
       "\n",
       "    .dataframe tbody tr th {\n",
       "        vertical-align: top;\n",
       "    }\n",
       "\n",
       "    .dataframe thead th {\n",
       "        text-align: right;\n",
       "    }\n",
       "</style>\n",
       "<table border=\"1\" class=\"dataframe\">\n",
       "  <thead>\n",
       "    <tr style=\"text-align: right;\">\n",
       "      <th></th>\n",
       "      <th>Generation Step</th>\n",
       "      <th>Generation Model</th>\n",
       "      <th>Trial Index</th>\n",
       "      <th>Trial Status</th>\n",
       "      <th>Arm Parameterizations</th>\n",
       "    </tr>\n",
       "  </thead>\n",
       "  <tbody>\n",
       "    <tr>\n",
       "      <th>25</th>\n",
       "      <td>GenerationStep_1</td>\n",
       "      <td>BoTorch</td>\n",
       "      <td>25</td>\n",
       "      <td>COMPLETED</td>\n",
       "      <td>{'25_0': {'OSDA_molar_ratio': 0.35, 'H2O_molar_ratio': 12.04, 'Synthesis_temperature': 139.7, 'Synthesis_time': 27.79, 'Stirring': 'Static', 'Silicon_source': 'Fumed'}}</td>\n",
       "    </tr>\n",
       "    <tr>\n",
       "      <th>26</th>\n",
       "      <td>GenerationStep_1</td>\n",
       "      <td>BoTorch</td>\n",
       "      <td>26</td>\n",
       "      <td>COMPLETED</td>\n",
       "      <td>{'26_0': {'OSDA_molar_ratio': 0.34, 'H2O_molar_ratio': 11.67, 'Synthesis_temperature': 140.26, 'Synthesis_time': 25.62, 'Stirring': 'Static', 'Silicon_source': 'Fumed'}}</td>\n",
       "    </tr>\n",
       "    <tr>\n",
       "      <th>27</th>\n",
       "      <td>GenerationStep_1</td>\n",
       "      <td>BoTorch</td>\n",
       "      <td>27</td>\n",
       "      <td>COMPLETED</td>\n",
       "      <td>{'27_0': {'OSDA_molar_ratio': 0.35, 'H2O_molar_ratio': 12.09, 'Synthesis_temperature': 140.02, 'Synthesis_time': 29.19, 'Stirring': 'Static', 'Silicon_source': 'Fumed'}}</td>\n",
       "    </tr>\n",
       "    <tr>\n",
       "      <th>28</th>\n",
       "      <td>GenerationStep_1</td>\n",
       "      <td>BoTorch</td>\n",
       "      <td>28</td>\n",
       "      <td>COMPLETED</td>\n",
       "      <td>{'28_0': {'OSDA_molar_ratio': 0.34, 'H2O_molar_ratio': 12.8, 'Synthesis_temperature': 140.5, 'Synthesis_time': 26.23, 'Stirring': 'Static', 'Silicon_source': 'Fumed'}}</td>\n",
       "    </tr>\n",
       "    <tr>\n",
       "      <th>29</th>\n",
       "      <td>GenerationStep_1</td>\n",
       "      <td>BoTorch</td>\n",
       "      <td>29</td>\n",
       "      <td>COMPLETED</td>\n",
       "      <td>{'29_0': {'OSDA_molar_ratio': 0.34, 'H2O_molar_ratio': 12.48, 'Synthesis_temperature': 140.3, 'Synthesis_time': 27.02, 'Stirring': 'Static', 'Silicon_source': 'Fumed'}}</td>\n",
       "    </tr>\n",
       "  </tbody>\n",
       "</table>\n",
       "</div>"
      ],
      "text/plain": [
       "     Generation Step Generation Model  Trial Index Trial Status  \\\n",
       "25  GenerationStep_1          BoTorch           25    COMPLETED   \n",
       "26  GenerationStep_1          BoTorch           26    COMPLETED   \n",
       "27  GenerationStep_1          BoTorch           27    COMPLETED   \n",
       "28  GenerationStep_1          BoTorch           28    COMPLETED   \n",
       "29  GenerationStep_1          BoTorch           29    COMPLETED   \n",
       "\n",
       "                                                                                                                                                        Arm Parameterizations  \n",
       "25   {'25_0': {'OSDA_molar_ratio': 0.35, 'H2O_molar_ratio': 12.04, 'Synthesis_temperature': 139.7, 'Synthesis_time': 27.79, 'Stirring': 'Static', 'Silicon_source': 'Fumed'}}  \n",
       "26  {'26_0': {'OSDA_molar_ratio': 0.34, 'H2O_molar_ratio': 11.67, 'Synthesis_temperature': 140.26, 'Synthesis_time': 25.62, 'Stirring': 'Static', 'Silicon_source': 'Fumed'}}  \n",
       "27  {'27_0': {'OSDA_molar_ratio': 0.35, 'H2O_molar_ratio': 12.09, 'Synthesis_temperature': 140.02, 'Synthesis_time': 29.19, 'Stirring': 'Static', 'Silicon_source': 'Fumed'}}  \n",
       "28    {'28_0': {'OSDA_molar_ratio': 0.34, 'H2O_molar_ratio': 12.8, 'Synthesis_temperature': 140.5, 'Synthesis_time': 26.23, 'Stirring': 'Static', 'Silicon_source': 'Fumed'}}  \n",
       "29   {'29_0': {'OSDA_molar_ratio': 0.34, 'H2O_molar_ratio': 12.48, 'Synthesis_temperature': 140.3, 'Synthesis_time': 27.02, 'Stirring': 'Static', 'Silicon_source': 'Fumed'}}  "
      ]
     },
     "metadata": {},
     "output_type": "display_data"
    },
    {
     "name": "stdout",
     "output_type": "stream",
     "text": [
      "The Pareto optimal parameters were:\n"
     ]
    },
    {
     "data": {
      "text/plain": [
       "{'OSDA_molar_ratio': 0.34576462735686786,\n",
       " 'H2O_molar_ratio': 12.042266849002447,\n",
       " 'Synthesis_temperature': 139.70090696302174,\n",
       " 'Synthesis_time': 27.788607802183623,\n",
       " 'Stirring': 'Static',\n",
       " 'Silicon_source': 'Fumed'}"
      ]
     },
     "metadata": {},
     "output_type": "display_data"
    },
    {
     "name": "stdout",
     "output_type": "stream",
     "text": [
      "\n",
      "The objective values for the Pareto optimal parameters were:\n"
     ]
    },
    {
     "data": {
      "text/plain": [
       "{'DCC': 0.468011099197156, 'Synthesis_yield': 0.7500239907244577}"
      ]
     },
     "metadata": {},
     "output_type": "display_data"
    }
   ],
   "source": [
    "optimize_experiment_ax(list_obj_names = ['DCC', 'Synthesis_yield'],\n",
    "                       objective_function = dummy_function_4_continuous_2_categorical_2_objective,\n",
    "                       continuous_parameters_list = [{\"name\": \"OSDA_molar_ratio\", \"type\": \"range\", \"bounds\": [0.1, 1.0]},\n",
    "                                                     {\"name\": \"H2O_molar_ratio\", \"type\": \"range\", \"bounds\": [5.0, 100.0]},\n",
    "                                                     {\"name\": \"Synthesis_temperature\", \"type\": \"range\", \"bounds\": [100.0, 200.0]},\n",
    "                                                     {\"name\": \"Synthesis_time\", \"type\": \"range\", \"bounds\": [2.0, 432.0]},\n",
    "                                                     ],\n",
    "                       categorical_parameters_list = [{\"name\": \"Stirring\", \"type\": \"choice\", \"is_ordered\": False,\"values\": [\"Stirring\", \"Tumbling\", \"Static\"]},\n",
    "                                                      {\"name\": \"Silicon_source\", \"type\": \"choice\", \"is_ordered\": False,\"values\": [\"Colloidal\", \"Fumed\"]},\n",
    "                                                      ],\n",
    "                       parameter_constraints_lists = [],\n",
    "                       iterations=30)"
   ]
  },
  {
   "cell_type": "markdown",
   "id": "32a88991-c821-41a3-b317-d4c2af0c817b",
   "metadata": {},
   "source": [
    "### 1.6 Multi-Objective with 4 Continuous Variables, 2 Categorical Variables and Parameter Constraints  <a name='Part1.6'></a>"
   ]
  },
  {
   "cell_type": "markdown",
   "id": "5e679fc4-ed26-4d9a-99b7-3b22e56d8a4b",
   "metadata": {},
   "source": [
    "The fourth demonstration uses the general function [`optimize_experiment_ax`](#Part1.2) to optimize an experiment with **4 continuous variables** with typical ranges that are based on [Table S4](https://pubs.acs.org/doi/suppl/10.1021/acs.chemmater.9b03738/suppl_file/cm9b03738_si_001.pdf#page=10) in the Supporting Information of [reference 1](https://pubs.acs.org/doi/abs/10.1021/acs.chemmater.9b03738): \n",
    "* the molar ratio of organic structure directing agents (OSDA) compared to Si  \n",
    "* the molar ratio of water compared to Si\n",
    "* synthesis temperature (°C)\n",
    "* synthesis time (h)\n",
    "\n",
    "We also add **2 categorical variables** that are inspired of [Table S3](https://pubs.acs.org/doi/suppl/10.1021/jacs.1c07590/suppl_file/ja1c07590_si_001.pdf#page=9) in the Supporting Information of [reference 2](https://pubs.acs.org/doi/10.1021/jacs.1c07590): \n",
    "* Stirring mode: stirring (600 rpm), tumbling or static.  \n",
    "* Silicon source: colloidal silica or fumed silica.\n",
    "\n",
    "Lastly, we add **one parameter constraint**. In the context of zeolite synthesis, parameter constraints are uncommon (the parameter bounds are sufficient), so we invent a physically meaningless constraint for illustrative purposes. This constraint will prevent attaining the global minimum, where approximately H2O_molar_ratio = 12.5 and Synthesis_temperature = 140\n",
    "* (H2O_molar_ratio) + (Synthesis_temperature) <= 145\n",
    "\n",
    "The **2 target variables** are synthesis yield and DCC (divalent cation capacity). We assume that minimizing the above defined [dummy function](#Part1.1) `dummy_function_4_continuous_2_categorical_2_objective` corresponds to maximizing the yield and DCC of the zeolite synthesis. Refer to https://ax.dev/tutorials/multiobjective_optimization.html for more background information."
   ]
  },
  {
   "cell_type": "code",
   "execution_count": 7,
   "id": "e5e76038-b015-4ae3-8e90-2ceebff5e44d",
   "metadata": {},
   "outputs": [
    {
     "name": "stdout",
     "output_type": "stream",
     "text": [
      "The details of the last 5 experiments:\n"
     ]
    },
    {
     "data": {
      "text/html": [
       "<div>\n",
       "<style scoped>\n",
       "    .dataframe tbody tr th:only-of-type {\n",
       "        vertical-align: middle;\n",
       "    }\n",
       "\n",
       "    .dataframe tbody tr th {\n",
       "        vertical-align: top;\n",
       "    }\n",
       "\n",
       "    .dataframe thead th {\n",
       "        text-align: right;\n",
       "    }\n",
       "</style>\n",
       "<table border=\"1\" class=\"dataframe\">\n",
       "  <thead>\n",
       "    <tr style=\"text-align: right;\">\n",
       "      <th></th>\n",
       "      <th>Generation Step</th>\n",
       "      <th>Generation Model</th>\n",
       "      <th>Trial Index</th>\n",
       "      <th>Trial Status</th>\n",
       "      <th>Arm Parameterizations</th>\n",
       "    </tr>\n",
       "  </thead>\n",
       "  <tbody>\n",
       "    <tr>\n",
       "      <th>25</th>\n",
       "      <td>GenerationStep_1</td>\n",
       "      <td>BoTorch</td>\n",
       "      <td>25</td>\n",
       "      <td>COMPLETED</td>\n",
       "      <td>{'25_0': {'OSDA_molar_ratio': 0.35, 'H2O_molar_ratio': 8.65, 'Synthesis_temperature': 136.35, 'Synthesis_time': 22.99, 'Stirring': 'Static', 'Silicon_source': 'Fumed'}}</td>\n",
       "    </tr>\n",
       "    <tr>\n",
       "      <th>26</th>\n",
       "      <td>GenerationStep_1</td>\n",
       "      <td>BoTorch</td>\n",
       "      <td>26</td>\n",
       "      <td>COMPLETED</td>\n",
       "      <td>{'26_0': {'OSDA_molar_ratio': 0.34, 'H2O_molar_ratio': 8.55, 'Synthesis_temperature': 136.45, 'Synthesis_time': 23.4, 'Stirring': 'Static', 'Silicon_source': 'Fumed'}}</td>\n",
       "    </tr>\n",
       "    <tr>\n",
       "      <th>27</th>\n",
       "      <td>GenerationStep_1</td>\n",
       "      <td>BoTorch</td>\n",
       "      <td>27</td>\n",
       "      <td>COMPLETED</td>\n",
       "      <td>{'27_0': {'OSDA_molar_ratio': 0.34, 'H2O_molar_ratio': 8.08, 'Synthesis_temperature': 136.92, 'Synthesis_time': 20.49, 'Stirring': 'Static', 'Silicon_source': 'Fumed'}}</td>\n",
       "    </tr>\n",
       "    <tr>\n",
       "      <th>28</th>\n",
       "      <td>GenerationStep_1</td>\n",
       "      <td>BoTorch</td>\n",
       "      <td>28</td>\n",
       "      <td>COMPLETED</td>\n",
       "      <td>{'28_0': {'OSDA_molar_ratio': 0.34, 'H2O_molar_ratio': 8.05, 'Synthesis_temperature': 136.95, 'Synthesis_time': 18.65, 'Stirring': 'Static', 'Silicon_source': 'Fumed'}}</td>\n",
       "    </tr>\n",
       "    <tr>\n",
       "      <th>29</th>\n",
       "      <td>GenerationStep_1</td>\n",
       "      <td>BoTorch</td>\n",
       "      <td>29</td>\n",
       "      <td>COMPLETED</td>\n",
       "      <td>{'29_0': {'OSDA_molar_ratio': 0.34, 'H2O_molar_ratio': 8.49, 'Synthesis_temperature': 136.51, 'Synthesis_time': 23.21, 'Stirring': 'Static', 'Silicon_source': 'Fumed'}}</td>\n",
       "    </tr>\n",
       "  </tbody>\n",
       "</table>\n",
       "</div>"
      ],
      "text/plain": [
       "     Generation Step Generation Model  Trial Index Trial Status  \\\n",
       "25  GenerationStep_1          BoTorch           25    COMPLETED   \n",
       "26  GenerationStep_1          BoTorch           26    COMPLETED   \n",
       "27  GenerationStep_1          BoTorch           27    COMPLETED   \n",
       "28  GenerationStep_1          BoTorch           28    COMPLETED   \n",
       "29  GenerationStep_1          BoTorch           29    COMPLETED   \n",
       "\n",
       "                                                                                                                                                       Arm Parameterizations  \n",
       "25  {'25_0': {'OSDA_molar_ratio': 0.35, 'H2O_molar_ratio': 8.65, 'Synthesis_temperature': 136.35, 'Synthesis_time': 22.99, 'Stirring': 'Static', 'Silicon_source': 'Fumed'}}  \n",
       "26   {'26_0': {'OSDA_molar_ratio': 0.34, 'H2O_molar_ratio': 8.55, 'Synthesis_temperature': 136.45, 'Synthesis_time': 23.4, 'Stirring': 'Static', 'Silicon_source': 'Fumed'}}  \n",
       "27  {'27_0': {'OSDA_molar_ratio': 0.34, 'H2O_molar_ratio': 8.08, 'Synthesis_temperature': 136.92, 'Synthesis_time': 20.49, 'Stirring': 'Static', 'Silicon_source': 'Fumed'}}  \n",
       "28  {'28_0': {'OSDA_molar_ratio': 0.34, 'H2O_molar_ratio': 8.05, 'Synthesis_temperature': 136.95, 'Synthesis_time': 18.65, 'Stirring': 'Static', 'Silicon_source': 'Fumed'}}  \n",
       "29  {'29_0': {'OSDA_molar_ratio': 0.34, 'H2O_molar_ratio': 8.49, 'Synthesis_temperature': 136.51, 'Synthesis_time': 23.21, 'Stirring': 'Static', 'Silicon_source': 'Fumed'}}  "
      ]
     },
     "metadata": {},
     "output_type": "display_data"
    },
    {
     "name": "stdout",
     "output_type": "stream",
     "text": [
      "The Pareto optimal parameters were:\n"
     ]
    },
    {
     "data": {
      "text/plain": [
       "{'OSDA_molar_ratio': 0.34503914342964936,\n",
       " 'H2O_molar_ratio': 8.64551286485448,\n",
       " 'Synthesis_temperature': 136.35448713516206,\n",
       " 'Synthesis_time': 22.991767675435288,\n",
       " 'Stirring': 'Static',\n",
       " 'Silicon_source': 'Fumed'}"
      ]
     },
     "metadata": {},
     "output_type": "display_data"
    },
    {
     "name": "stdout",
     "output_type": "stream",
     "text": [
      "\n",
      "The objective values for the Pareto optimal parameters were:\n"
     ]
    },
    {
     "data": {
      "text/plain": [
       "{'DCC': 28.414187472214962, 'Synthesis_yield': 28.29822867583607}"
      ]
     },
     "metadata": {},
     "output_type": "display_data"
    }
   ],
   "source": [
    "optimize_experiment_ax(list_obj_names = ['DCC', 'Synthesis_yield'],\n",
    "                       objective_function = dummy_function_4_continuous_2_categorical_2_objective,\n",
    "                       continuous_parameters_list = [{\"name\": \"OSDA_molar_ratio\", \"type\": \"range\", \"bounds\": [0.1, 1.0]},\n",
    "                                                     {\"name\": \"H2O_molar_ratio\", \"type\": \"range\", \"bounds\": [5.0, 100.0]},\n",
    "                                                     {\"name\": \"Synthesis_temperature\", \"type\": \"range\", \"bounds\": [100.0, 200.0]},\n",
    "                                                     {\"name\": \"Synthesis_time\", \"type\": \"range\", \"bounds\": [2.0, 432.0]},\n",
    "                                                     ],\n",
    "                       categorical_parameters_list = [{\"name\": \"Stirring\", \"type\": \"choice\", \"is_ordered\": False,\"values\": [\"Stirring\", \"Tumbling\", \"Static\"]},\n",
    "                                                      {\"name\": \"Silicon_source\", \"type\": \"choice\", \"is_ordered\": False,\"values\": [\"Colloidal\", \"Fumed\"]},\n",
    "                                                      ],\n",
    "                       parameter_constraints_lists = [\"H2O_molar_ratio + Synthesis_temperature <= 145.0\"],\n",
    "                       iterations=30)"
   ]
  },
  {
   "cell_type": "markdown",
   "id": "c396a207-acc7-4771-86aa-3c3510582185",
   "metadata": {},
   "source": [
    "### 1.7 Code Example without Using the General `optimize_experiment_ax` Function of Part 1.2  <a name='Part1.7'></a>"
   ]
  },
  {
   "cell_type": "markdown",
   "id": "71011e62-d53e-4568-8323-c8bcc2a1a0e4",
   "metadata": {},
   "source": [
    "The fifth demonstration shows an experiment with **4 continuous variables** with typical ranges that are based on [Table S4](https://pubs.acs.org/doi/suppl/10.1021/acs.chemmater.9b03738/suppl_file/cm9b03738_si_001.pdf#page=10) in the Supporting Information of [reference 1](https://pubs.acs.org/doi/abs/10.1021/acs.chemmater.9b03738), but this time **without using the general function** [`optimize_experiment_ax`](#Part1.2). This is how one would probably use Ax when there is only one type of experiment. \n",
    "\n",
    "* the molar ratio of organic structure directing agents (OSDA) compared to Si  \n",
    "* the molar ratio of water compared to Si\n",
    "* synthesis temperature (°C)\n",
    "* synthesis time (h)\n",
    "\n",
    "The **single target variable** is synthesis yield. We assume that minimizing the above defined [dummy function](#Part1.1) `dummy_function_4_continuous_1_objective` corresponds to maximizing the yield of the zeolite synthesis. We also plot the **optimization trace** of the BO algorithm throughout the different experiment iterations."
   ]
  },
  {
   "cell_type": "code",
   "execution_count": 7,
   "id": "d6d2d76c-e6ca-481c-bdc9-5c59221f7436",
   "metadata": {},
   "outputs": [
    {
     "name": "stdout",
     "output_type": "stream",
     "text": [
      "The details of the last 5 experiment iterations:\n"
     ]
    },
    {
     "data": {
      "text/html": [
       "<div>\n",
       "<style scoped>\n",
       "    .dataframe tbody tr th:only-of-type {\n",
       "        vertical-align: middle;\n",
       "    }\n",
       "\n",
       "    .dataframe tbody tr th {\n",
       "        vertical-align: top;\n",
       "    }\n",
       "\n",
       "    .dataframe thead th {\n",
       "        text-align: right;\n",
       "    }\n",
       "</style>\n",
       "<table border=\"1\" class=\"dataframe\">\n",
       "  <thead>\n",
       "    <tr style=\"text-align: right;\">\n",
       "      <th></th>\n",
       "      <th>Generation Step</th>\n",
       "      <th>Generation Model</th>\n",
       "      <th>Trial Index</th>\n",
       "      <th>Trial Status</th>\n",
       "      <th>Arm Parameterizations</th>\n",
       "    </tr>\n",
       "  </thead>\n",
       "  <tbody>\n",
       "    <tr>\n",
       "      <th>25</th>\n",
       "      <td>GenerationStep_1</td>\n",
       "      <td>BoTorch</td>\n",
       "      <td>25</td>\n",
       "      <td>COMPLETED</td>\n",
       "      <td>{'25_0': {'OSDA_molar_ratio': 0.36, 'H2O_molar_ratio': 12.41, 'Synthesis_temperature': 140.96, 'Synthesis_time': 21.67}}</td>\n",
       "    </tr>\n",
       "    <tr>\n",
       "      <th>26</th>\n",
       "      <td>GenerationStep_1</td>\n",
       "      <td>BoTorch</td>\n",
       "      <td>26</td>\n",
       "      <td>COMPLETED</td>\n",
       "      <td>{'26_0': {'OSDA_molar_ratio': 0.37, 'H2O_molar_ratio': 11.45, 'Synthesis_temperature': 141.27, 'Synthesis_time': 2.0}}</td>\n",
       "    </tr>\n",
       "    <tr>\n",
       "      <th>27</th>\n",
       "      <td>GenerationStep_1</td>\n",
       "      <td>BoTorch</td>\n",
       "      <td>27</td>\n",
       "      <td>COMPLETED</td>\n",
       "      <td>{'27_0': {'OSDA_molar_ratio': 0.34, 'H2O_molar_ratio': 12.26, 'Synthesis_temperature': 139.76, 'Synthesis_time': 21.9}}</td>\n",
       "    </tr>\n",
       "    <tr>\n",
       "      <th>28</th>\n",
       "      <td>GenerationStep_1</td>\n",
       "      <td>BoTorch</td>\n",
       "      <td>28</td>\n",
       "      <td>COMPLETED</td>\n",
       "      <td>{'28_0': {'OSDA_molar_ratio': 0.1, 'H2O_molar_ratio': 5.0, 'Synthesis_temperature': 200.0, 'Synthesis_time': 2.0}}</td>\n",
       "    </tr>\n",
       "    <tr>\n",
       "      <th>29</th>\n",
       "      <td>GenerationStep_1</td>\n",
       "      <td>BoTorch</td>\n",
       "      <td>29</td>\n",
       "      <td>COMPLETED</td>\n",
       "      <td>{'29_0': {'OSDA_molar_ratio': 0.13, 'H2O_molar_ratio': 5.0, 'Synthesis_temperature': 132.33, 'Synthesis_time': 234.7}}</td>\n",
       "    </tr>\n",
       "  </tbody>\n",
       "</table>\n",
       "</div>"
      ],
      "text/plain": [
       "     Generation Step Generation Model  Trial Index Trial Status  \\\n",
       "25  GenerationStep_1          BoTorch           25    COMPLETED   \n",
       "26  GenerationStep_1          BoTorch           26    COMPLETED   \n",
       "27  GenerationStep_1          BoTorch           27    COMPLETED   \n",
       "28  GenerationStep_1          BoTorch           28    COMPLETED   \n",
       "29  GenerationStep_1          BoTorch           29    COMPLETED   \n",
       "\n",
       "                                                                                                       Arm Parameterizations  \n",
       "25  {'25_0': {'OSDA_molar_ratio': 0.36, 'H2O_molar_ratio': 12.41, 'Synthesis_temperature': 140.96, 'Synthesis_time': 21.67}}  \n",
       "26    {'26_0': {'OSDA_molar_ratio': 0.37, 'H2O_molar_ratio': 11.45, 'Synthesis_temperature': 141.27, 'Synthesis_time': 2.0}}  \n",
       "27   {'27_0': {'OSDA_molar_ratio': 0.34, 'H2O_molar_ratio': 12.26, 'Synthesis_temperature': 139.76, 'Synthesis_time': 21.9}}  \n",
       "28        {'28_0': {'OSDA_molar_ratio': 0.1, 'H2O_molar_ratio': 5.0, 'Synthesis_temperature': 200.0, 'Synthesis_time': 2.0}}  \n",
       "29    {'29_0': {'OSDA_molar_ratio': 0.13, 'H2O_molar_ratio': 5.0, 'Synthesis_temperature': 132.33, 'Synthesis_time': 234.7}}  "
      ]
     },
     "metadata": {},
     "output_type": "display_data"
    },
    {
     "data": {
      "image/png": "[encoded data removed]"
     },
     "metadata": {},
     "output_type": "display_data"
    },
    {
     "name": "stdout",
     "output_type": "stream",
     "text": [
      "The best parameters were:\n"
     ]
    },
    {
     "data": {
      "text/plain": [
       "{'OSDA_molar_ratio': 0.34406537118593616,\n",
       " 'H2O_molar_ratio': 12.255890900708632,\n",
       " 'Synthesis_temperature': 139.7614030816516,\n",
       " 'Synthesis_time': 21.90491099424178}"
      ]
     },
     "metadata": {},
     "output_type": "display_data"
    },
    {
     "name": "stdout",
     "output_type": "stream",
     "text": [
      "\n",
      "The objective value for the best parameters was:\n"
     ]
    },
    {
     "data": {
      "text/plain": [
       "{'Synthesis_yield': 0.4317714423295911}"
      ]
     },
     "metadata": {},
     "output_type": "display_data"
    }
   ],
   "source": [
    "obj_name1 = \"Synthesis_yield\"\n",
    "  \n",
    "ax_client = AxClient(verbose_logging=False)\n",
    "ax_client.create_experiment(parameters=[{\"name\": \"OSDA_molar_ratio\", \"type\": \"range\", \"bounds\": [0.1, 1.0]},\n",
    "                                        {\"name\": \"H2O_molar_ratio\", \"type\": \"range\", \"bounds\": [5.0, 100.0]},\n",
    "                                        {\"name\": \"Synthesis_temperature\", \"type\": \"range\", \"bounds\": [100.0, 200.0]},\n",
    "                                        {\"name\": \"Synthesis_time\", \"type\": \"range\", \"bounds\": [2.0, 432.0]},\n",
    "                                        ],\n",
    "                            objectives={obj_name1: ObjectiveProperties(minimize=True),},\n",
    "                           )\n",
    "\n",
    "for _ in range(30):\n",
    "    parameterization, trial_index = ax_client.get_next_trial()\n",
    "\n",
    "    # Extract parameters\n",
    "    x1 = parameterization[\"OSDA_molar_ratio\"]\n",
    "    x2 = parameterization[\"H2O_molar_ratio\"]\n",
    "    x3 = parameterization[\"Synthesis_temperature\"]\n",
    "    x4 = parameterization[\"Synthesis_time\"]\n",
    "    \n",
    "    results = dummy_function_4_continuous_1_objective(x1, x2, x3, x4, obj_name1=obj_name1)\n",
    "    ax_client.complete_trial(trial_index=trial_index, raw_data=results)\n",
    "\n",
    "best_parameters, value = ax_client.get_best_parameters()\n",
    "\n",
    "# Create dataframe with details of all experiment iterations\n",
    "df_experiments = ax_client.generation_strategy.trials_as_df\n",
    "print('The details of the last 5 experiment iterations:')\n",
    "display(df_experiments.tail())\n",
    "\n",
    "# Get the AxClient's optimization trace using the built-in plotting method\n",
    "optimization_trace = ax_client.get_optimization_trace()\n",
    "\n",
    "# Convert the optimization trace to a Plotly figure and plot it\n",
    "fig = to_plotly(optimization_trace)\n",
    "fig.show(renderer='png')\n",
    "\n",
    "# Output the best parameters and their corresponding objective values\n",
    "print('The best parameters were:')\n",
    "display(best_parameters)\n",
    "print('\\nThe objective value for the best parameters was:')\n",
    "display(value[0])"
   ]
  },
  {
   "cell_type": "markdown",
   "id": "e3e390de-f733-4f34-bfdb-2d094e7cbcfb",
   "metadata": {},
   "source": [
    "## Part 2: Propose a New Experiment Based on a Batch of Prior (Literature) Experiments   <a name='Part2'></a>"
   ]
  },
  {
   "cell_type": "markdown",
   "id": "883f3525-fa4a-47b4-b4bb-ce858debf643",
   "metadata": {},
   "source": [
    "Here Bayesian optimization is applied within a **real-world context** where the underlying target function remains unknown. We start from a batch of experiments collected from literature, and we allow the Bayesian optimizer to **suggest the next experiment**. This process aims to explore the search space further and/or leverage past results. In practice, one would carry out the suggested experiment, incorporate its outcome into the existing results, and subsequently rerun the Bayesian optimization algorithm."
   ]
  },
  {
   "cell_type": "markdown",
   "id": "d33d5ee3-637c-4cd7-9af5-36ecb0e7e607",
   "metadata": {},
   "source": [
    "### 2.1 Define a Function that Proposes the Next Best Experiment with Ax Package  <a name='Part2.1'></a>"
   ]
  },
  {
   "cell_type": "markdown",
   "id": "d36c6596-8c8a-4476-98d7-cf0d0cc4004c",
   "metadata": {},
   "source": [
    "Here we will create a **general function** `propose_experiment_ax` to propose a next best experiment with the Ax package. This general function allows focus on the output of the experiments further on, without repeatedly modifying similar sections of code. \n",
    "\n",
    "The `propose_experiment_ax` function takes a list of **continuous parameters**, a list of **categorical parameters**, a list of parameter **constraints**, a dataframe with **previous continuous experimental inputs**, a dataframe with **previous categorical experimental inputs** and a dictionary with **previous experimental outcomes (single or multi-objective)**. \n",
    "\n",
    "This function is inspired by the the following GitHub issue: https://github.com/Facebook/ax/issues/743."
   ]
  },
  {
   "cell_type": "code",
   "execution_count": 9,
   "id": "1c2547c1-beb5-4e29-baa6-c41eff675ece",
   "metadata": {},
   "outputs": [],
   "source": [
    "def propose_experiment_ax(continuous_parameters_list, categorical_parameters_list, parameter_constraints_lists,\n",
    "                          df_prior_experiments_input_continuous, df_prior_experiments_input_categorical, \n",
    "                          dictionary_prior_experiments_output):\n",
    "    \"\"\"\n",
    "    Proposes the next best experiment with the Ax package. \n",
    "    Inputs: \n",
    "    continuous_parameters_list: list of continuous parameters for the objective function\n",
    "    categorical_parameters_list: list of categorical parameters for the objective function\n",
    "    parameter_constraints_lists: list of constraints in the parameter space\n",
    "    df_prior_experiments_input_continuous: dataframe with the previous experimental inputs of the continuous parameters\n",
    "    df_prior_experiments_input_categorical: dataframe with the previous experimental inputs of the categorical parameters\n",
    "    dictionary_prior_experiments_output: a dictionary {objective_name : objective_result} in which objective_name is a string naming the objective,\n",
    "                                         and objective_result is a pandas Series with the previous experimental outcomes \n",
    "    Outputs:\n",
    "    A suggestion for the best subsequent experiment to try out.\n",
    "    For single-objective experiments, the best previous parameters and their objective function output are printed.\n",
    "\n",
    "    Source:\n",
    "    This function is inspired by the following GitHub issue: https://github.com/Facebook/ax/issues/743 \n",
    "    \"\"\"\n",
    "    all_parameters_list = continuous_parameters_list + categorical_parameters_list\n",
    "    \n",
    "    df_prior_experiments_input_all = pd.concat([df_prior_experiments_input_continuous, df_prior_experiments_input_categorical], axis=1)\n",
    "    df_prior_experiments_output_all = pd.concat(dictionary_prior_experiments_output.values(), axis=1)\n",
    "    df_prior_experiments_input_output_all = pd.concat([df_prior_experiments_input_all, df_prior_experiments_output_all], axis=1)\n",
    "    print('The considered dataset with previous experimental inputs and outputs:')\n",
    "    display(df_prior_experiments_input_output_all)\n",
    "\n",
    "    objectives_dictionary={}\n",
    "    for obj_name in dictionary_prior_experiments_output.keys():\n",
    "        objectives_dictionary[obj_name]=ObjectiveProperties(minimize=False)\n",
    "        \n",
    "    # Skip the pseudo-random suggested points by specifying a custom generation strategy\n",
    "    # See: https://ax.dev/tutorials/generation_strategy.html and\n",
    "    # https://ax.dev/docs/bayesopt.html#tradeoff-between-parallelism-and-total-number-of-trials\n",
    "    gs = GenerationStrategy(steps=[GenerationStep(model=Models.GPEI, num_trials=-1, max_parallelism=3)])\n",
    "\n",
    "    # Setup the experiment\n",
    "    ax_client = AxClient(generation_strategy=gs, verbose_logging=False)\n",
    "    ax_client.create_experiment(parameters=all_parameters_list, \n",
    "                                parameter_constraints=parameter_constraints_lists, \n",
    "                                objectives=objectives_dictionary)\n",
    "\n",
    "    # Attach the training data\n",
    "    for i in range(df_prior_experiments_input_all.shape[0]):\n",
    "        ax_client.attach_trial(df_prior_experiments_input_all.iloc[i, :].to_dict())\n",
    "\n",
    "        result_dictionary={}\n",
    "        for obj_name in dictionary_prior_experiments_output.keys():\n",
    "            # We assume standard error is 0.0\n",
    "            result_dictionary[obj_name] = (dictionary_prior_experiments_output[obj_name][i], 0.0)\n",
    "        ax_client.complete_trial(trial_index=i, raw_data=result_dictionary)\n",
    "        \n",
    "    # Produce a single next suggested experiment\n",
    "    next_experiment, trial_index = ax_client.get_next_trial()\n",
    "    print(\"\\nNext suggested experiment:\" )\n",
    "    display(next_experiment)\n",
    "\n",
    "    if len(dictionary_prior_experiments_output.keys()) == 1 :\n",
    "        # Single-objective experiment\n",
    "        # Output the best parameters and their corresponding objective values\n",
    "        best_parameters, value = ax_client.get_best_parameters()\n",
    "        print('\\nThe best parameters were:')\n",
    "        display(best_parameters)\n",
    "        print('\\nThe objective value for the best parameters was:')\n",
    "        display(value[0])\n",
    "       \n",
    "    return None"
   ]
  },
  {
   "cell_type": "markdown",
   "id": "dab418c7-4257-45e1-a4f9-a2aabb9ef5e3",
   "metadata": {},
   "source": [
    "### 2.2 Collect the Literature Input and Output Data  <a name='Part2.2'></a>"
   ]
  },
  {
   "cell_type": "markdown",
   "id": "c0292d5b-6fe0-4e08-a9aa-d138f0661555",
   "metadata": {},
   "source": [
    "The objective of the considered study was to find a one-pot synthesis of Fe-CHA zeolites that maximizes the methanol yield when the synthesized material is activated and reacted with methane. 'One-pot' means that Fe is already added in the zeolite synthesis, instead of being post-synthetically ion-exchanged on the zeolite.\n",
    "\n",
    "The input literature data are based on [Table S3](https://pubs.acs.org/doi/suppl/10.1021/jacs.1c07590/suppl_file/ja1c07590_si_001.pdf#page=9) in the Supporting Information of [reference 2](https://pubs.acs.org/doi/10.1021/jacs.1c07590). A reasonable value was chosen for missing data.\n",
    "\n",
    "The **continuous** variables are:\n",
    "* the molar ratio of organic structure directing agents, OSDA, compared to Si  \n",
    "* the molar ratio of water compared to Si\n",
    "* the molar ratio of Fe compared to Si\n",
    "\n",
    "The **categorical** variables are:\n",
    "* Fe source: iron(III) acetate (A) or iron(III)  nitrate (N).\n",
    "* Stirring mode: stirring (600 rpm) or static.\n",
    "\n",
    "The **2 target variables** are based on respectively [Table S3](https://pubs.acs.org/doi/suppl/10.1021/jacs.1c07590/suppl_file/ja1c07590_si_001.pdf#page=9) and [Table S4](https://pubs.acs.org/doi/suppl/10.1021/jacs.1c07590/suppl_file/ja1c07590_si_001.pdf#page=10) in the Supporting Information of [reference 2](https://pubs.acs.org/doi/10.1021/jacs.1c07590):\n",
    "* Zeolite synthesis yield \n",
    "* Methanol yield (MeOH/Al)\n"
   ]
  },
  {
   "cell_type": "code",
   "execution_count": 10,
   "id": "46777f23-c717-46c2-830b-e929618976c3",
   "metadata": {},
   "outputs": [
    {
     "name": "stdout",
     "output_type": "stream",
     "text": [
      "\n",
      "Literature input data with the experimental Synthesis_yield and Methanol_yield outcome. This will be fed as prior information to BO:\n"
     ]
    },
    {
     "data": {
      "text/html": [
       "<div>\n",
       "<style scoped>\n",
       "    .dataframe tbody tr th:only-of-type {\n",
       "        vertical-align: middle;\n",
       "    }\n",
       "\n",
       "    .dataframe tbody tr th {\n",
       "        vertical-align: top;\n",
       "    }\n",
       "\n",
       "    .dataframe thead th {\n",
       "        text-align: right;\n",
       "    }\n",
       "</style>\n",
       "<table border=\"1\" class=\"dataframe\">\n",
       "  <thead>\n",
       "    <tr style=\"text-align: right;\">\n",
       "      <th></th>\n",
       "      <th>OSDA_molar_ratio</th>\n",
       "      <th>H2O_molar_ratio</th>\n",
       "      <th>Fe_molar_ratio</th>\n",
       "      <th>Fe_Salt</th>\n",
       "      <th>Stirring</th>\n",
       "      <th>Synthesis_yield</th>\n",
       "      <th>Methanol_yield</th>\n",
       "    </tr>\n",
       "  </thead>\n",
       "  <tbody>\n",
       "    <tr>\n",
       "      <th>0</th>\n",
       "      <td>0.36</td>\n",
       "      <td>15.4</td>\n",
       "      <td>0.019</td>\n",
       "      <td>A</td>\n",
       "      <td>Static</td>\n",
       "      <td>0.83</td>\n",
       "      <td>0.089</td>\n",
       "    </tr>\n",
       "    <tr>\n",
       "      <th>1</th>\n",
       "      <td>0.33</td>\n",
       "      <td>14.1</td>\n",
       "      <td>0.016</td>\n",
       "      <td>A</td>\n",
       "      <td>Static</td>\n",
       "      <td>0.85</td>\n",
       "      <td>0.085</td>\n",
       "    </tr>\n",
       "    <tr>\n",
       "      <th>2</th>\n",
       "      <td>0.36</td>\n",
       "      <td>15.5</td>\n",
       "      <td>0.018</td>\n",
       "      <td>N</td>\n",
       "      <td>Static</td>\n",
       "      <td>0.96</td>\n",
       "      <td>0.084</td>\n",
       "    </tr>\n",
       "    <tr>\n",
       "      <th>3</th>\n",
       "      <td>0.36</td>\n",
       "      <td>15.5</td>\n",
       "      <td>0.017</td>\n",
       "      <td>N</td>\n",
       "      <td>Static</td>\n",
       "      <td>0.84</td>\n",
       "      <td>0.108</td>\n",
       "    </tr>\n",
       "    <tr>\n",
       "      <th>4</th>\n",
       "      <td>0.36</td>\n",
       "      <td>15.5</td>\n",
       "      <td>0.035</td>\n",
       "      <td>A</td>\n",
       "      <td>Static</td>\n",
       "      <td>0.93</td>\n",
       "      <td>0.116</td>\n",
       "    </tr>\n",
       "    <tr>\n",
       "      <th>5</th>\n",
       "      <td>0.36</td>\n",
       "      <td>15.5</td>\n",
       "      <td>0.037</td>\n",
       "      <td>N</td>\n",
       "      <td>Stirring</td>\n",
       "      <td>1.00</td>\n",
       "      <td>0.063</td>\n",
       "    </tr>\n",
       "    <tr>\n",
       "      <th>6</th>\n",
       "      <td>0.34</td>\n",
       "      <td>14.4</td>\n",
       "      <td>0.039</td>\n",
       "      <td>N</td>\n",
       "      <td>Stirring</td>\n",
       "      <td>0.91</td>\n",
       "      <td>0.108</td>\n",
       "    </tr>\n",
       "    <tr>\n",
       "      <th>7</th>\n",
       "      <td>0.36</td>\n",
       "      <td>15.5</td>\n",
       "      <td>0.055</td>\n",
       "      <td>A</td>\n",
       "      <td>Static</td>\n",
       "      <td>0.00</td>\n",
       "      <td>0.053</td>\n",
       "    </tr>\n",
       "    <tr>\n",
       "      <th>8</th>\n",
       "      <td>0.36</td>\n",
       "      <td>15.6</td>\n",
       "      <td>0.055</td>\n",
       "      <td>N</td>\n",
       "      <td>Static</td>\n",
       "      <td>0.00</td>\n",
       "      <td>0.013</td>\n",
       "    </tr>\n",
       "    <tr>\n",
       "      <th>9</th>\n",
       "      <td>0.36</td>\n",
       "      <td>15.5</td>\n",
       "      <td>0.090</td>\n",
       "      <td>A</td>\n",
       "      <td>Static</td>\n",
       "      <td>0.00</td>\n",
       "      <td>0.020</td>\n",
       "    </tr>\n",
       "    <tr>\n",
       "      <th>10</th>\n",
       "      <td>0.33</td>\n",
       "      <td>14.1</td>\n",
       "      <td>0.016</td>\n",
       "      <td>A</td>\n",
       "      <td>Stirring</td>\n",
       "      <td>0.91</td>\n",
       "      <td>0.062</td>\n",
       "    </tr>\n",
       "  </tbody>\n",
       "</table>\n",
       "</div>"
      ],
      "text/plain": [
       "    OSDA_molar_ratio  H2O_molar_ratio  Fe_molar_ratio Fe_Salt  Stirring  \\\n",
       "0               0.36             15.4           0.019       A    Static   \n",
       "1               0.33             14.1           0.016       A    Static   \n",
       "2               0.36             15.5           0.018       N    Static   \n",
       "3               0.36             15.5           0.017       N    Static   \n",
       "4               0.36             15.5           0.035       A    Static   \n",
       "5               0.36             15.5           0.037       N  Stirring   \n",
       "6               0.34             14.4           0.039       N  Stirring   \n",
       "7               0.36             15.5           0.055       A    Static   \n",
       "8               0.36             15.6           0.055       N    Static   \n",
       "9               0.36             15.5           0.090       A    Static   \n",
       "10              0.33             14.1           0.016       A  Stirring   \n",
       "\n",
       "    Synthesis_yield  Methanol_yield  \n",
       "0              0.83           0.089  \n",
       "1              0.85           0.085  \n",
       "2              0.96           0.084  \n",
       "3              0.84           0.108  \n",
       "4              0.93           0.116  \n",
       "5              1.00           0.063  \n",
       "6              0.91           0.108  \n",
       "7              0.00           0.053  \n",
       "8              0.00           0.013  \n",
       "9              0.00           0.020  \n",
       "10             0.91           0.062  "
      ]
     },
     "metadata": {},
     "output_type": "display_data"
    },
    {
     "data": {
      "text/plain": [
       "OSDA_molar_ratio    float64\n",
       "H2O_molar_ratio     float64\n",
       "Fe_molar_ratio      float64\n",
       "Fe_Salt              object\n",
       "Stirring             object\n",
       "Synthesis_yield     float64\n",
       "Methanol_yield      float64\n",
       "dtype: object"
      ]
     },
     "metadata": {},
     "output_type": "display_data"
    }
   ],
   "source": [
    "parameter_names = [\"OSDA_molar_ratio\", \"H2O_molar_ratio\", \"Fe_molar_ratio\", \"Fe_Salt\", \"Stirring\"]\n",
    "\n",
    "X_train = np.array([[0.36, 15.4, 0.019, 'A', 'Static'],\n",
    "                    [0.33, 14.1, 0.016, 'A', 'Static'],\n",
    "                    [0.36, 15.5, 0.018, 'N', 'Static'],\n",
    "                    [0.36, 15.5, 0.017, 'N', 'Static'],\n",
    "                    [0.36, 15.5, 0.035, 'A', 'Static'],\n",
    "                    [0.36, 15.5, 0.037, 'N', 'Stirring'],\n",
    "                    [0.34, 14.4, 0.039, 'N', 'Stirring'],\n",
    "                    [0.36, 15.5, 0.055, 'A', 'Static'],\n",
    "                    [0.36, 15.6, 0.055, 'N', 'Static'],\n",
    "                    [0.36, 15.5, 0.090, 'A', 'Static'],\n",
    "                    [0.33, 14.1, 0.016, 'A', 'Stirring'],\n",
    "                    ])\n",
    "\n",
    "X_train = pd.DataFrame(X_train, columns=parameter_names)\n",
    "dict_types = {'OSDA_molar_ratio': 'float64', 'H2O_molar_ratio': 'float64', 'Fe_molar_ratio': 'float64', \n",
    "              'Fe_Salt': 'object', 'Stirring': 'object' }\n",
    "X_train = X_train.astype(dict_types)\n",
    "\n",
    "y_train_yield = np.array([0.83, 0.85, 0.96, 0.84, 0.93, 1.0, 0.91, 0.0, 0.0, 0.0, 0.91])\n",
    "y_train_methanol = np.array([0.089, 0.085, 0.084, 0.108, 0.116, 0.063, 0.108, 0.053, 0.013, 0.020, 0.062])\n",
    "\n",
    "print('\\nLiterature input data with the experimental Synthesis_yield and Methanol_yield outcome. This will be fed as prior information to BO:')\n",
    "X_total = X_train.copy()\n",
    "X_total['Synthesis_yield'] = y_train_yield.tolist()\n",
    "X_total['Methanol_yield'] = y_train_methanol.tolist()\n",
    "display(X_total)\n",
    "display(X_total.dtypes)\n"
   ]
  },
  {
   "cell_type": "markdown",
   "id": "e69374e8-c314-4614-974b-eb9726fa4978",
   "metadata": {},
   "source": [
    "### 2.3 Single-Objective (Synthesis Yield) with 3 Continuous Variables and 2 Categorical Variables  <a name='Part2.3'></a>"
   ]
  },
  {
   "cell_type": "markdown",
   "id": "105100e5-d6ba-4081-9538-16a84692ada9",
   "metadata": {},
   "source": [
    "In this scenario, we are interested in **maximizing the zeolite synthesis yield** (single-objective). We run [`propose_experiment_ax`](#Part2.1) to generate the next best experiment to try out in the labaratory. "
   ]
  },
  {
   "cell_type": "code",
   "execution_count": 11,
   "id": "0a3c541d-7756-48bd-9bdf-90d9cec023ff",
   "metadata": {},
   "outputs": [
    {
     "name": "stdout",
     "output_type": "stream",
     "text": [
      "The considered dataset with previous experimental inputs and outputs:\n"
     ]
    },
    {
     "data": {
      "text/html": [
       "<div>\n",
       "<style scoped>\n",
       "    .dataframe tbody tr th:only-of-type {\n",
       "        vertical-align: middle;\n",
       "    }\n",
       "\n",
       "    .dataframe tbody tr th {\n",
       "        vertical-align: top;\n",
       "    }\n",
       "\n",
       "    .dataframe thead th {\n",
       "        text-align: right;\n",
       "    }\n",
       "</style>\n",
       "<table border=\"1\" class=\"dataframe\">\n",
       "  <thead>\n",
       "    <tr style=\"text-align: right;\">\n",
       "      <th></th>\n",
       "      <th>OSDA_molar_ratio</th>\n",
       "      <th>H2O_molar_ratio</th>\n",
       "      <th>Fe_molar_ratio</th>\n",
       "      <th>Fe_Salt</th>\n",
       "      <th>Stirring</th>\n",
       "      <th>Synthesis_yield</th>\n",
       "    </tr>\n",
       "  </thead>\n",
       "  <tbody>\n",
       "    <tr>\n",
       "      <th>0</th>\n",
       "      <td>0.36</td>\n",
       "      <td>15.4</td>\n",
       "      <td>0.019</td>\n",
       "      <td>A</td>\n",
       "      <td>Static</td>\n",
       "      <td>0.83</td>\n",
       "    </tr>\n",
       "    <tr>\n",
       "      <th>1</th>\n",
       "      <td>0.33</td>\n",
       "      <td>14.1</td>\n",
       "      <td>0.016</td>\n",
       "      <td>A</td>\n",
       "      <td>Static</td>\n",
       "      <td>0.85</td>\n",
       "    </tr>\n",
       "    <tr>\n",
       "      <th>2</th>\n",
       "      <td>0.36</td>\n",
       "      <td>15.5</td>\n",
       "      <td>0.018</td>\n",
       "      <td>N</td>\n",
       "      <td>Static</td>\n",
       "      <td>0.96</td>\n",
       "    </tr>\n",
       "    <tr>\n",
       "      <th>3</th>\n",
       "      <td>0.36</td>\n",
       "      <td>15.5</td>\n",
       "      <td>0.017</td>\n",
       "      <td>N</td>\n",
       "      <td>Static</td>\n",
       "      <td>0.84</td>\n",
       "    </tr>\n",
       "    <tr>\n",
       "      <th>4</th>\n",
       "      <td>0.36</td>\n",
       "      <td>15.5</td>\n",
       "      <td>0.035</td>\n",
       "      <td>A</td>\n",
       "      <td>Static</td>\n",
       "      <td>0.93</td>\n",
       "    </tr>\n",
       "    <tr>\n",
       "      <th>5</th>\n",
       "      <td>0.36</td>\n",
       "      <td>15.5</td>\n",
       "      <td>0.037</td>\n",
       "      <td>N</td>\n",
       "      <td>Stirring</td>\n",
       "      <td>1.00</td>\n",
       "    </tr>\n",
       "    <tr>\n",
       "      <th>6</th>\n",
       "      <td>0.34</td>\n",
       "      <td>14.4</td>\n",
       "      <td>0.039</td>\n",
       "      <td>N</td>\n",
       "      <td>Stirring</td>\n",
       "      <td>0.91</td>\n",
       "    </tr>\n",
       "    <tr>\n",
       "      <th>7</th>\n",
       "      <td>0.36</td>\n",
       "      <td>15.5</td>\n",
       "      <td>0.055</td>\n",
       "      <td>A</td>\n",
       "      <td>Static</td>\n",
       "      <td>0.00</td>\n",
       "    </tr>\n",
       "    <tr>\n",
       "      <th>8</th>\n",
       "      <td>0.36</td>\n",
       "      <td>15.6</td>\n",
       "      <td>0.055</td>\n",
       "      <td>N</td>\n",
       "      <td>Static</td>\n",
       "      <td>0.00</td>\n",
       "    </tr>\n",
       "    <tr>\n",
       "      <th>9</th>\n",
       "      <td>0.36</td>\n",
       "      <td>15.5</td>\n",
       "      <td>0.090</td>\n",
       "      <td>A</td>\n",
       "      <td>Static</td>\n",
       "      <td>0.00</td>\n",
       "    </tr>\n",
       "    <tr>\n",
       "      <th>10</th>\n",
       "      <td>0.33</td>\n",
       "      <td>14.1</td>\n",
       "      <td>0.016</td>\n",
       "      <td>A</td>\n",
       "      <td>Stirring</td>\n",
       "      <td>0.91</td>\n",
       "    </tr>\n",
       "  </tbody>\n",
       "</table>\n",
       "</div>"
      ],
      "text/plain": [
       "    OSDA_molar_ratio  H2O_molar_ratio  Fe_molar_ratio Fe_Salt  Stirring  \\\n",
       "0               0.36             15.4           0.019       A    Static   \n",
       "1               0.33             14.1           0.016       A    Static   \n",
       "2               0.36             15.5           0.018       N    Static   \n",
       "3               0.36             15.5           0.017       N    Static   \n",
       "4               0.36             15.5           0.035       A    Static   \n",
       "5               0.36             15.5           0.037       N  Stirring   \n",
       "6               0.34             14.4           0.039       N  Stirring   \n",
       "7               0.36             15.5           0.055       A    Static   \n",
       "8               0.36             15.6           0.055       N    Static   \n",
       "9               0.36             15.5           0.090       A    Static   \n",
       "10              0.33             14.1           0.016       A  Stirring   \n",
       "\n",
       "    Synthesis_yield  \n",
       "0              0.83  \n",
       "1              0.85  \n",
       "2              0.96  \n",
       "3              0.84  \n",
       "4              0.93  \n",
       "5              1.00  \n",
       "6              0.91  \n",
       "7              0.00  \n",
       "8              0.00  \n",
       "9              0.00  \n",
       "10             0.91  "
      ]
     },
     "metadata": {},
     "output_type": "display_data"
    },
    {
     "name": "stdout",
     "output_type": "stream",
     "text": [
      "\n",
      "Next suggested experiment:\n"
     ]
    },
    {
     "data": {
      "text/plain": [
       "{'OSDA_molar_ratio': 0.3597986726498765,\n",
       " 'H2O_molar_ratio': 15.488919708603255,\n",
       " 'Fe_molar_ratio': 0.023291856734901355,\n",
       " 'Fe_Salt': 'N',\n",
       " 'Stirring': 'Static'}"
      ]
     },
     "metadata": {},
     "output_type": "display_data"
    },
    {
     "name": "stdout",
     "output_type": "stream",
     "text": [
      "\n",
      "The best parameters were:\n"
     ]
    },
    {
     "data": {
      "text/plain": [
       "{'OSDA_molar_ratio': 0.36,\n",
       " 'H2O_molar_ratio': 15.5,\n",
       " 'Fe_molar_ratio': 0.037,\n",
       " 'Fe_Salt': 'N',\n",
       " 'Stirring': 'Stirring'}"
      ]
     },
     "metadata": {},
     "output_type": "display_data"
    },
    {
     "name": "stdout",
     "output_type": "stream",
     "text": [
      "\n",
      "The objective value for the best parameters was:\n"
     ]
    },
    {
     "data": {
      "text/plain": [
       "{'Synthesis_yield': 1.0}"
      ]
     },
     "metadata": {},
     "output_type": "display_data"
    }
   ],
   "source": [
    "propose_experiment_ax(continuous_parameters_list = [{\"name\": \"OSDA_molar_ratio\", \"type\": \"range\", \"bounds\": [0.30, 0.40]},\n",
    "                                                    {\"name\": \"H2O_molar_ratio\",  \"type\": \"range\", \"bounds\": [14.0, 16.0]},\n",
    "                                                    {\"name\": \"Fe_molar_ratio\",   \"type\": \"range\", \"bounds\": [0.01, 0.10]},\n",
    "                                                   ],\n",
    "                      categorical_parameters_list = [{\"name\": \"Fe_Salt\", \"type\": \"choice\", \"is_ordered\": False,\"values\": [\"A\", \"N\"]},\n",
    "                                                     {\"name\": \"Stirring\", \"type\": \"choice\", \"is_ordered\": False, \"values\": [\"Stirring\", \"Static\"]},\n",
    "                                                    ],     \n",
    "                      parameter_constraints_lists = [],\n",
    "                      df_prior_experiments_input_continuous  = X_total[[\"OSDA_molar_ratio\", \"H2O_molar_ratio\", \"Fe_molar_ratio\"]],\n",
    "                      df_prior_experiments_input_categorical = X_total[[\"Fe_Salt\", \"Stirring\"]],\n",
    "                      dictionary_prior_experiments_output = {\"Synthesis_yield\" : X_total.loc[:,\"Synthesis_yield\"]} \n",
    "                     )\n",
    " "
   ]
  },
  {
   "cell_type": "markdown",
   "id": "374d8a9e-df50-4855-b771-ab061603b4cc",
   "metadata": {},
   "source": [
    "### 2.4 Multi-Objective (Synthesis Yield + Methanol Production) with 3 Continuous Variables and 2 Categorical Variables <a name='Part2.4'></a>"
   ]
  },
  {
   "cell_type": "markdown",
   "id": "40fcd82c-648b-4204-8b49-29fdff9960fa",
   "metadata": {},
   "source": [
    "In this scenario, we are interested in **maximizing both the zeolite synthesis yield and the methanol production** (multi-objective). We run [`propose_experiment_ax`](#Part2.1) to generate the next best experiment to try out in the labaratory. "
   ]
  },
  {
   "cell_type": "code",
   "execution_count": 12,
   "id": "23cf5c47-f360-4fc1-9a2a-4586732e2f2b",
   "metadata": {},
   "outputs": [
    {
     "name": "stdout",
     "output_type": "stream",
     "text": [
      "The considered dataset with previous experimental inputs and outputs:\n"
     ]
    },
    {
     "data": {
      "text/html": [
       "<div>\n",
       "<style scoped>\n",
       "    .dataframe tbody tr th:only-of-type {\n",
       "        vertical-align: middle;\n",
       "    }\n",
       "\n",
       "    .dataframe tbody tr th {\n",
       "        vertical-align: top;\n",
       "    }\n",
       "\n",
       "    .dataframe thead th {\n",
       "        text-align: right;\n",
       "    }\n",
       "</style>\n",
       "<table border=\"1\" class=\"dataframe\">\n",
       "  <thead>\n",
       "    <tr style=\"text-align: right;\">\n",
       "      <th></th>\n",
       "      <th>OSDA_molar_ratio</th>\n",
       "      <th>H2O_molar_ratio</th>\n",
       "      <th>Fe_molar_ratio</th>\n",
       "      <th>Fe_Salt</th>\n",
       "      <th>Stirring</th>\n",
       "      <th>Synthesis_yield</th>\n",
       "      <th>Methanol_yield</th>\n",
       "    </tr>\n",
       "  </thead>\n",
       "  <tbody>\n",
       "    <tr>\n",
       "      <th>0</th>\n",
       "      <td>0.36</td>\n",
       "      <td>15.4</td>\n",
       "      <td>0.019</td>\n",
       "      <td>A</td>\n",
       "      <td>Static</td>\n",
       "      <td>0.83</td>\n",
       "      <td>0.089</td>\n",
       "    </tr>\n",
       "    <tr>\n",
       "      <th>1</th>\n",
       "      <td>0.33</td>\n",
       "      <td>14.1</td>\n",
       "      <td>0.016</td>\n",
       "      <td>A</td>\n",
       "      <td>Static</td>\n",
       "      <td>0.85</td>\n",
       "      <td>0.085</td>\n",
       "    </tr>\n",
       "    <tr>\n",
       "      <th>2</th>\n",
       "      <td>0.36</td>\n",
       "      <td>15.5</td>\n",
       "      <td>0.018</td>\n",
       "      <td>N</td>\n",
       "      <td>Static</td>\n",
       "      <td>0.96</td>\n",
       "      <td>0.084</td>\n",
       "    </tr>\n",
       "    <tr>\n",
       "      <th>3</th>\n",
       "      <td>0.36</td>\n",
       "      <td>15.5</td>\n",
       "      <td>0.017</td>\n",
       "      <td>N</td>\n",
       "      <td>Static</td>\n",
       "      <td>0.84</td>\n",
       "      <td>0.108</td>\n",
       "    </tr>\n",
       "    <tr>\n",
       "      <th>4</th>\n",
       "      <td>0.36</td>\n",
       "      <td>15.5</td>\n",
       "      <td>0.035</td>\n",
       "      <td>A</td>\n",
       "      <td>Static</td>\n",
       "      <td>0.93</td>\n",
       "      <td>0.116</td>\n",
       "    </tr>\n",
       "    <tr>\n",
       "      <th>5</th>\n",
       "      <td>0.36</td>\n",
       "      <td>15.5</td>\n",
       "      <td>0.037</td>\n",
       "      <td>N</td>\n",
       "      <td>Stirring</td>\n",
       "      <td>1.00</td>\n",
       "      <td>0.063</td>\n",
       "    </tr>\n",
       "    <tr>\n",
       "      <th>6</th>\n",
       "      <td>0.34</td>\n",
       "      <td>14.4</td>\n",
       "      <td>0.039</td>\n",
       "      <td>N</td>\n",
       "      <td>Stirring</td>\n",
       "      <td>0.91</td>\n",
       "      <td>0.108</td>\n",
       "    </tr>\n",
       "    <tr>\n",
       "      <th>7</th>\n",
       "      <td>0.36</td>\n",
       "      <td>15.5</td>\n",
       "      <td>0.055</td>\n",
       "      <td>A</td>\n",
       "      <td>Static</td>\n",
       "      <td>0.00</td>\n",
       "      <td>0.053</td>\n",
       "    </tr>\n",
       "    <tr>\n",
       "      <th>8</th>\n",
       "      <td>0.36</td>\n",
       "      <td>15.6</td>\n",
       "      <td>0.055</td>\n",
       "      <td>N</td>\n",
       "      <td>Static</td>\n",
       "      <td>0.00</td>\n",
       "      <td>0.013</td>\n",
       "    </tr>\n",
       "    <tr>\n",
       "      <th>9</th>\n",
       "      <td>0.36</td>\n",
       "      <td>15.5</td>\n",
       "      <td>0.090</td>\n",
       "      <td>A</td>\n",
       "      <td>Static</td>\n",
       "      <td>0.00</td>\n",
       "      <td>0.020</td>\n",
       "    </tr>\n",
       "    <tr>\n",
       "      <th>10</th>\n",
       "      <td>0.33</td>\n",
       "      <td>14.1</td>\n",
       "      <td>0.016</td>\n",
       "      <td>A</td>\n",
       "      <td>Stirring</td>\n",
       "      <td>0.91</td>\n",
       "      <td>0.062</td>\n",
       "    </tr>\n",
       "  </tbody>\n",
       "</table>\n",
       "</div>"
      ],
      "text/plain": [
       "    OSDA_molar_ratio  H2O_molar_ratio  Fe_molar_ratio Fe_Salt  Stirring  \\\n",
       "0               0.36             15.4           0.019       A    Static   \n",
       "1               0.33             14.1           0.016       A    Static   \n",
       "2               0.36             15.5           0.018       N    Static   \n",
       "3               0.36             15.5           0.017       N    Static   \n",
       "4               0.36             15.5           0.035       A    Static   \n",
       "5               0.36             15.5           0.037       N  Stirring   \n",
       "6               0.34             14.4           0.039       N  Stirring   \n",
       "7               0.36             15.5           0.055       A    Static   \n",
       "8               0.36             15.6           0.055       N    Static   \n",
       "9               0.36             15.5           0.090       A    Static   \n",
       "10              0.33             14.1           0.016       A  Stirring   \n",
       "\n",
       "    Synthesis_yield  Methanol_yield  \n",
       "0              0.83           0.089  \n",
       "1              0.85           0.085  \n",
       "2              0.96           0.084  \n",
       "3              0.84           0.108  \n",
       "4              0.93           0.116  \n",
       "5              1.00           0.063  \n",
       "6              0.91           0.108  \n",
       "7              0.00           0.053  \n",
       "8              0.00           0.013  \n",
       "9              0.00           0.020  \n",
       "10             0.91           0.062  "
      ]
     },
     "metadata": {},
     "output_type": "display_data"
    },
    {
     "name": "stdout",
     "output_type": "stream",
     "text": [
      "\n",
      "Next suggested experiment:\n"
     ]
    },
    {
     "data": {
      "text/plain": [
       "{'OSDA_molar_ratio': 0.3526783041131582,\n",
       " 'H2O_molar_ratio': 15.331573897619075,\n",
       " 'Fe_molar_ratio': 0.033573534446308506,\n",
       " 'Fe_Salt': 'A',\n",
       " 'Stirring': 'Static'}"
      ]
     },
     "metadata": {},
     "output_type": "display_data"
    }
   ],
   "source": [
    "propose_experiment_ax(continuous_parameters_list = [{\"name\": \"OSDA_molar_ratio\", \"type\": \"range\", \"bounds\": [0.30, 0.40]},\n",
    "                                                    {\"name\": \"H2O_molar_ratio\",  \"type\": \"range\", \"bounds\": [14.0, 16.0]},\n",
    "                                                    {\"name\": \"Fe_molar_ratio\",   \"type\": \"range\", \"bounds\": [0.01, 0.10]},\n",
    "                                                   ],\n",
    "                      categorical_parameters_list = [{\"name\": \"Fe_Salt\", \"type\": \"choice\", \"is_ordered\": False,\"values\": [\"A\", \"N\"]},\n",
    "                                                     {\"name\": \"Stirring\", \"type\": \"choice\", \"is_ordered\": False, \"values\": [\"Stirring\", \"Static\"]},\n",
    "                                                    ],     \n",
    "                      parameter_constraints_lists = [],\n",
    "                      df_prior_experiments_input_continuous  = X_total[[\"OSDA_molar_ratio\", \"H2O_molar_ratio\", \"Fe_molar_ratio\"]],\n",
    "                      df_prior_experiments_input_categorical = X_total[[\"Fe_Salt\", \"Stirring\"]],\n",
    "                      dictionary_prior_experiments_output = {\"Synthesis_yield\" : X_total.loc[:,\"Synthesis_yield\"], \n",
    "                                                             \"Methanol_yield\" : X_total.loc[:,\"Methanol_yield\"],\n",
    "                                                            } \n",
    "                     ) "
   ]
  }
 ],
 "metadata": {
  "kernelspec": {
   "display_name": "Python [conda env:jupyter_vscode]",
   "language": "python",
   "name": "conda-env-jupyter_vscode-py"
  },
  "language_info": {
   "codemirror_mode": {
    "name": "ipython",
    "version": 3
   },
   "file_extension": ".py",
   "mimetype": "text/x-python",
   "name": "python",
   "nbconvert_exporter": "python",
   "pygments_lexer": "ipython3",
   "version": "3.12.1"
  }
 },
 "nbformat": 4,
 "nbformat_minor": 5
}
